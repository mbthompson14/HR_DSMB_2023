{
 "cells": [
  {
   "cell_type": "code",
   "execution_count": 1,
   "metadata": {},
   "outputs": [],
   "source": [
    "import pandas as pd\n",
    "from datetime import datetime"
   ]
  },
  {
   "cell_type": "code",
   "execution_count": 2,
   "metadata": {},
   "outputs": [
    {
     "name": "stdout",
     "output_type": "stream",
     "text": [
      "<class 'pandas.core.frame.DataFrame'>\n",
      "RangeIndex: 141 entries, 0 to 140\n",
      "Data columns (total 4 columns):\n",
      " #   Column                                Non-Null Count  Dtype         \n",
      "---  ------                                --------------  -----         \n",
      " 0   record_id                             141 non-null    object        \n",
      " 1   redcap_event_name                     141 non-null    object        \n",
      " 2   begin_baseline_queue_part_1_complete  141 non-null    int64         \n",
      " 3   visit_date                            141 non-null    datetime64[ns]\n",
      "dtypes: datetime64[ns](1), int64(1), object(2)\n",
      "memory usage: 4.5+ KB\n"
     ]
    }
   ],
   "source": [
    "df = pd.read_csv('baseline_count.csv')\n",
    "df['visit_date'] = pd.to_datetime(df['visit_date'])\n",
    "df.info()"
   ]
  },
  {
   "cell_type": "code",
   "execution_count": 3,
   "metadata": {},
   "outputs": [],
   "source": [
    "# list nonvalid pts\n",
    "nonvalid = ['CF270AUD','CF285AUD','CF286AUD','CM229AUD','CM236AUD','CM237AUD','CM251AUD','CM256AUD','CM271AUD','CM287AUD','CM301AUD','MF246AUD','MF249AUD','MF272AUD','MM216AUD','MM250AUD','MM260AUD','MM282AUD','MM293AUD']\n",
    "\n",
    "df = df.loc[~df['record_id'].isin(nonvalid)]"
   ]
  },
  {
   "cell_type": "code",
   "execution_count": 4,
   "metadata": {},
   "outputs": [
    {
     "data": {
      "text/plain": [
       "122"
      ]
     },
     "execution_count": 4,
     "metadata": {},
     "output_type": "execute_result"
    }
   ],
   "source": [
    "# number of participants who completed baseline in total\n",
    "len(df)"
   ]
  },
  {
   "cell_type": "code",
   "execution_count": 5,
   "metadata": {},
   "outputs": [
    {
     "data": {
      "text/plain": [
       "datetime.datetime(2023, 2, 6, 0, 0)"
      ]
     },
     "execution_count": 5,
     "metadata": {},
     "output_type": "execute_result"
    }
   ],
   "source": [
    "# the date we implemented the survey change\n",
    "d = datetime(2023, 2, 6)\n",
    "d"
   ]
  },
  {
   "cell_type": "code",
   "execution_count": 6,
   "metadata": {},
   "outputs": [
    {
     "data": {
      "text/html": [
       "<div>\n",
       "<style scoped>\n",
       "    .dataframe tbody tr th:only-of-type {\n",
       "        vertical-align: middle;\n",
       "    }\n",
       "\n",
       "    .dataframe tbody tr th {\n",
       "        vertical-align: top;\n",
       "    }\n",
       "\n",
       "    .dataframe thead th {\n",
       "        text-align: right;\n",
       "    }\n",
       "</style>\n",
       "<table border=\"1\" class=\"dataframe\">\n",
       "  <thead>\n",
       "    <tr style=\"text-align: right;\">\n",
       "      <th></th>\n",
       "      <th>record_id</th>\n",
       "      <th>redcap_event_name</th>\n",
       "      <th>begin_baseline_queue_part_1_complete</th>\n",
       "      <th>visit_date</th>\n",
       "    </tr>\n",
       "  </thead>\n",
       "  <tbody>\n",
       "    <tr>\n",
       "      <th>27</th>\n",
       "      <td>CF311AUD</td>\n",
       "      <td>baseline_arm_3</td>\n",
       "      <td>2</td>\n",
       "      <td>2023-04-25</td>\n",
       "    </tr>\n",
       "    <tr>\n",
       "      <th>28</th>\n",
       "      <td>CF313AUD</td>\n",
       "      <td>baseline_arm_3</td>\n",
       "      <td>2</td>\n",
       "      <td>2023-04-30</td>\n",
       "    </tr>\n",
       "    <tr>\n",
       "      <th>29</th>\n",
       "      <td>CF322AUD</td>\n",
       "      <td>baseline_arm_3</td>\n",
       "      <td>2</td>\n",
       "      <td>2023-05-03</td>\n",
       "    </tr>\n",
       "    <tr>\n",
       "      <th>66</th>\n",
       "      <td>CM294AUD</td>\n",
       "      <td>baseline_arm_3</td>\n",
       "      <td>2</td>\n",
       "      <td>2023-02-14</td>\n",
       "    </tr>\n",
       "    <tr>\n",
       "      <th>69</th>\n",
       "      <td>CM319AUD</td>\n",
       "      <td>baseline_arm_3</td>\n",
       "      <td>2</td>\n",
       "      <td>2023-05-03</td>\n",
       "    </tr>\n",
       "    <tr>\n",
       "      <th>91</th>\n",
       "      <td>MF306AUD</td>\n",
       "      <td>baseline_arm_3</td>\n",
       "      <td>2</td>\n",
       "      <td>2023-03-20</td>\n",
       "    </tr>\n",
       "    <tr>\n",
       "      <th>92</th>\n",
       "      <td>MF309AUD</td>\n",
       "      <td>baseline_arm_3</td>\n",
       "      <td>2</td>\n",
       "      <td>2023-04-30</td>\n",
       "    </tr>\n",
       "    <tr>\n",
       "      <th>93</th>\n",
       "      <td>MF316AUD</td>\n",
       "      <td>baseline_arm_3</td>\n",
       "      <td>2</td>\n",
       "      <td>2023-05-06</td>\n",
       "    </tr>\n",
       "    <tr>\n",
       "      <th>94</th>\n",
       "      <td>MF317AUD</td>\n",
       "      <td>baseline_arm_3</td>\n",
       "      <td>2</td>\n",
       "      <td>2023-05-08</td>\n",
       "    </tr>\n",
       "    <tr>\n",
       "      <th>133</th>\n",
       "      <td>MM289AUD</td>\n",
       "      <td>baseline_arm_3</td>\n",
       "      <td>2</td>\n",
       "      <td>2023-02-10</td>\n",
       "    </tr>\n",
       "    <tr>\n",
       "      <th>137</th>\n",
       "      <td>MM312AUD</td>\n",
       "      <td>baseline_arm_3</td>\n",
       "      <td>2</td>\n",
       "      <td>2023-04-23</td>\n",
       "    </tr>\n",
       "    <tr>\n",
       "      <th>138</th>\n",
       "      <td>MM315AUD</td>\n",
       "      <td>baseline_arm_3</td>\n",
       "      <td>2</td>\n",
       "      <td>2023-04-29</td>\n",
       "    </tr>\n",
       "    <tr>\n",
       "      <th>139</th>\n",
       "      <td>MM318AUD</td>\n",
       "      <td>baseline_arm_3</td>\n",
       "      <td>2</td>\n",
       "      <td>2023-05-02</td>\n",
       "    </tr>\n",
       "    <tr>\n",
       "      <th>140</th>\n",
       "      <td>MM321AUD</td>\n",
       "      <td>baseline_arm_3</td>\n",
       "      <td>2</td>\n",
       "      <td>2023-05-17</td>\n",
       "    </tr>\n",
       "  </tbody>\n",
       "</table>\n",
       "</div>"
      ],
      "text/plain": [
       "    record_id redcap_event_name  begin_baseline_queue_part_1_complete  \\\n",
       "27   CF311AUD    baseline_arm_3                                     2   \n",
       "28   CF313AUD    baseline_arm_3                                     2   \n",
       "29   CF322AUD    baseline_arm_3                                     2   \n",
       "66   CM294AUD    baseline_arm_3                                     2   \n",
       "69   CM319AUD    baseline_arm_3                                     2   \n",
       "91   MF306AUD    baseline_arm_3                                     2   \n",
       "92   MF309AUD    baseline_arm_3                                     2   \n",
       "93   MF316AUD    baseline_arm_3                                     2   \n",
       "94   MF317AUD    baseline_arm_3                                     2   \n",
       "133  MM289AUD    baseline_arm_3                                     2   \n",
       "137  MM312AUD    baseline_arm_3                                     2   \n",
       "138  MM315AUD    baseline_arm_3                                     2   \n",
       "139  MM318AUD    baseline_arm_3                                     2   \n",
       "140  MM321AUD    baseline_arm_3                                     2   \n",
       "\n",
       "    visit_date  \n",
       "27  2023-04-25  \n",
       "28  2023-04-30  \n",
       "29  2023-05-03  \n",
       "66  2023-02-14  \n",
       "69  2023-05-03  \n",
       "91  2023-03-20  \n",
       "92  2023-04-30  \n",
       "93  2023-05-06  \n",
       "94  2023-05-08  \n",
       "133 2023-02-10  \n",
       "137 2023-04-23  \n",
       "138 2023-04-29  \n",
       "139 2023-05-02  \n",
       "140 2023-05-17  "
      ]
     },
     "execution_count": 6,
     "metadata": {},
     "output_type": "execute_result"
    }
   ],
   "source": [
    "post_update = df.loc[df['visit_date']>d]\n",
    "post_update"
   ]
  },
  {
   "cell_type": "code",
   "execution_count": 7,
   "metadata": {},
   "outputs": [
    {
     "data": {
      "text/plain": [
       "14"
      ]
     },
     "execution_count": 7,
     "metadata": {},
     "output_type": "execute_result"
    }
   ],
   "source": [
    "len(post_update)"
   ]
  }
 ],
 "metadata": {
  "kernelspec": {
   "display_name": "base",
   "language": "python",
   "name": "python3"
  },
  "language_info": {
   "codemirror_mode": {
    "name": "ipython",
    "version": 3
   },
   "file_extension": ".py",
   "mimetype": "text/x-python",
   "name": "python",
   "nbconvert_exporter": "python",
   "pygments_lexer": "ipython3",
   "version": "3.10.9"
  },
  "orig_nbformat": 4
 },
 "nbformat": 4,
 "nbformat_minor": 2
}
