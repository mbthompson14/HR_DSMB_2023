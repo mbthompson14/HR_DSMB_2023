{
 "cells": [
  {
   "cell_type": "code",
   "execution_count": 29,
   "metadata": {},
   "outputs": [],
   "source": [
    "import pandas as pd\n",
    "import numpy as np\n",
    "import re"
   ]
  },
  {
   "attachments": {},
   "cell_type": "markdown",
   "metadata": {},
   "source": [
    "Exclusion criteria:\n",
    "\n",
    "[auditc_total] < 4 or \n",
    "\n",
    "(([screen_sleep_trouble]<2 AND [jenkins_toggle]=0) OR ([screen_sleep_trouble]='' AND [jenkins_toggle]<1)) or\n",
    "\n",
    "[age_v2] <> '1' or [webscreen_smartphone]=2 or [webscreen_smartphone_have]=0"
   ]
  },
  {
   "cell_type": "code",
   "execution_count": 18,
   "metadata": {},
   "outputs": [
    {
     "data": {
      "text/html": [
       "<div>\n",
       "<style scoped>\n",
       "    .dataframe tbody tr th:only-of-type {\n",
       "        vertical-align: middle;\n",
       "    }\n",
       "\n",
       "    .dataframe tbody tr th {\n",
       "        vertical-align: top;\n",
       "    }\n",
       "\n",
       "    .dataframe thead th {\n",
       "        text-align: right;\n",
       "    }\n",
       "</style>\n",
       "<table border=\"1\" class=\"dataframe\">\n",
       "  <thead>\n",
       "    <tr style=\"text-align: right;\">\n",
       "      <th></th>\n",
       "      <th>record_id</th>\n",
       "      <th>ts</th>\n",
       "      <th>age_v2</th>\n",
       "      <th>screen_drinking_problem</th>\n",
       "      <th>screen_drink_frequency</th>\n",
       "      <th>screen_drink_amount</th>\n",
       "      <th>screen_drink_five</th>\n",
       "      <th>auditc_total</th>\n",
       "      <th>screen_sleep_trouble</th>\n",
       "      <th>webscreen_smartphone_have</th>\n",
       "      <th>...</th>\n",
       "      <th>webscreen_exclusionreason___0</th>\n",
       "      <th>webscreen_exclusionreason___1</th>\n",
       "      <th>webscreen_exclusionreason___2</th>\n",
       "      <th>webscreen_exclusionreason___3</th>\n",
       "      <th>webscreen_exclusionreason___4</th>\n",
       "      <th>webscreen_exclusionreason___5</th>\n",
       "      <th>webscreen_exclusionreason___6</th>\n",
       "      <th>webscreen_exclusionreason___20</th>\n",
       "      <th>webscreen_exclusionreason___99</th>\n",
       "      <th>tracking_form_complete</th>\n",
       "    </tr>\n",
       "  </thead>\n",
       "  <tbody>\n",
       "    <tr>\n",
       "      <th>675</th>\n",
       "      <td>777</td>\n",
       "      <td>2021-09-07</td>\n",
       "      <td>NaN</td>\n",
       "      <td>NaN</td>\n",
       "      <td>NaN</td>\n",
       "      <td>NaN</td>\n",
       "      <td>NaN</td>\n",
       "      <td>NaN</td>\n",
       "      <td>NaN</td>\n",
       "      <td>NaN</td>\n",
       "      <td>...</td>\n",
       "      <td>0</td>\n",
       "      <td>0</td>\n",
       "      <td>0</td>\n",
       "      <td>0</td>\n",
       "      <td>0</td>\n",
       "      <td>0</td>\n",
       "      <td>0</td>\n",
       "      <td>0</td>\n",
       "      <td>0</td>\n",
       "      <td>0</td>\n",
       "    </tr>\n",
       "    <tr>\n",
       "      <th>676</th>\n",
       "      <td>778</td>\n",
       "      <td>2021-09-12</td>\n",
       "      <td>NaN</td>\n",
       "      <td>NaN</td>\n",
       "      <td>NaN</td>\n",
       "      <td>NaN</td>\n",
       "      <td>NaN</td>\n",
       "      <td>NaN</td>\n",
       "      <td>NaN</td>\n",
       "      <td>NaN</td>\n",
       "      <td>...</td>\n",
       "      <td>0</td>\n",
       "      <td>0</td>\n",
       "      <td>0</td>\n",
       "      <td>0</td>\n",
       "      <td>0</td>\n",
       "      <td>0</td>\n",
       "      <td>0</td>\n",
       "      <td>0</td>\n",
       "      <td>0</td>\n",
       "      <td>0</td>\n",
       "    </tr>\n",
       "    <tr>\n",
       "      <th>677</th>\n",
       "      <td>779</td>\n",
       "      <td>2021-09-12</td>\n",
       "      <td>NaN</td>\n",
       "      <td>0.0</td>\n",
       "      <td>4.0</td>\n",
       "      <td>0.0</td>\n",
       "      <td>0.0</td>\n",
       "      <td>4.0</td>\n",
       "      <td>NaN</td>\n",
       "      <td>NaN</td>\n",
       "      <td>...</td>\n",
       "      <td>0</td>\n",
       "      <td>1</td>\n",
       "      <td>0</td>\n",
       "      <td>0</td>\n",
       "      <td>0</td>\n",
       "      <td>1</td>\n",
       "      <td>0</td>\n",
       "      <td>0</td>\n",
       "      <td>0</td>\n",
       "      <td>2</td>\n",
       "    </tr>\n",
       "    <tr>\n",
       "      <th>678</th>\n",
       "      <td>780</td>\n",
       "      <td>2021-09-12</td>\n",
       "      <td>NaN</td>\n",
       "      <td>NaN</td>\n",
       "      <td>NaN</td>\n",
       "      <td>NaN</td>\n",
       "      <td>NaN</td>\n",
       "      <td>NaN</td>\n",
       "      <td>NaN</td>\n",
       "      <td>NaN</td>\n",
       "      <td>...</td>\n",
       "      <td>0</td>\n",
       "      <td>0</td>\n",
       "      <td>0</td>\n",
       "      <td>0</td>\n",
       "      <td>0</td>\n",
       "      <td>0</td>\n",
       "      <td>0</td>\n",
       "      <td>0</td>\n",
       "      <td>0</td>\n",
       "      <td>0</td>\n",
       "    </tr>\n",
       "    <tr>\n",
       "      <th>679</th>\n",
       "      <td>781</td>\n",
       "      <td>2021-09-12</td>\n",
       "      <td>NaN</td>\n",
       "      <td>1.0</td>\n",
       "      <td>4.0</td>\n",
       "      <td>1.0</td>\n",
       "      <td>2.0</td>\n",
       "      <td>7.0</td>\n",
       "      <td>NaN</td>\n",
       "      <td>NaN</td>\n",
       "      <td>...</td>\n",
       "      <td>0</td>\n",
       "      <td>0</td>\n",
       "      <td>0</td>\n",
       "      <td>0</td>\n",
       "      <td>0</td>\n",
       "      <td>0</td>\n",
       "      <td>0</td>\n",
       "      <td>0</td>\n",
       "      <td>0</td>\n",
       "      <td>0</td>\n",
       "    </tr>\n",
       "  </tbody>\n",
       "</table>\n",
       "<p>5 rows × 46 columns</p>\n",
       "</div>"
      ],
      "text/plain": [
       "     record_id          ts  age_v2  screen_drinking_problem  \\\n",
       "675        777  2021-09-07     NaN                      NaN   \n",
       "676        778  2021-09-12     NaN                      NaN   \n",
       "677        779  2021-09-12     NaN                      0.0   \n",
       "678        780  2021-09-12     NaN                      NaN   \n",
       "679        781  2021-09-12     NaN                      1.0   \n",
       "\n",
       "     screen_drink_frequency  screen_drink_amount  screen_drink_five  \\\n",
       "675                     NaN                  NaN                NaN   \n",
       "676                     NaN                  NaN                NaN   \n",
       "677                     4.0                  0.0                0.0   \n",
       "678                     NaN                  NaN                NaN   \n",
       "679                     4.0                  1.0                2.0   \n",
       "\n",
       "     auditc_total  screen_sleep_trouble  webscreen_smartphone_have  ...  \\\n",
       "675           NaN                   NaN                        NaN  ...   \n",
       "676           NaN                   NaN                        NaN  ...   \n",
       "677           4.0                   NaN                        NaN  ...   \n",
       "678           NaN                   NaN                        NaN  ...   \n",
       "679           7.0                   NaN                        NaN  ...   \n",
       "\n",
       "     webscreen_exclusionreason___0 webscreen_exclusionreason___1  \\\n",
       "675                              0                             0   \n",
       "676                              0                             0   \n",
       "677                              0                             1   \n",
       "678                              0                             0   \n",
       "679                              0                             0   \n",
       "\n",
       "    webscreen_exclusionreason___2 webscreen_exclusionreason___3  \\\n",
       "675                             0                             0   \n",
       "676                             0                             0   \n",
       "677                             0                             0   \n",
       "678                             0                             0   \n",
       "679                             0                             0   \n",
       "\n",
       "    webscreen_exclusionreason___4 webscreen_exclusionreason___5  \\\n",
       "675                             0                             0   \n",
       "676                             0                             0   \n",
       "677                             0                             1   \n",
       "678                             0                             0   \n",
       "679                             0                             0   \n",
       "\n",
       "     webscreen_exclusionreason___6  webscreen_exclusionreason___20  \\\n",
       "675                              0                               0   \n",
       "676                              0                               0   \n",
       "677                              0                               0   \n",
       "678                              0                               0   \n",
       "679                              0                               0   \n",
       "\n",
       "    webscreen_exclusionreason___99  tracking_form_complete  \n",
       "675                              0                       0  \n",
       "676                              0                       0  \n",
       "677                              0                       2  \n",
       "678                              0                       0  \n",
       "679                              0                       0  \n",
       "\n",
       "[5 rows x 46 columns]"
      ]
     },
     "execution_count": 18,
     "metadata": {},
     "output_type": "execute_result"
    }
   ],
   "source": [
    "screen = pd.read_csv('webscreen.csv')\n",
    "# exclude beta\n",
    "screen = screen[screen['record_id']>=777]\n",
    "# exclude duplicates\n",
    "screen = screen[screen['webscreen_status']!=5]\n",
    "screen.head()"
   ]
  },
  {
   "cell_type": "code",
   "execution_count": 20,
   "metadata": {},
   "outputs": [
    {
     "data": {
      "text/plain": [
       "4101"
      ]
     },
     "execution_count": 20,
     "metadata": {},
     "output_type": "execute_result"
    }
   ],
   "source": [
    "len(screen)"
   ]
  },
  {
   "cell_type": "code",
   "execution_count": 21,
   "metadata": {},
   "outputs": [
    {
     "data": {
      "text/plain": [
       "322"
      ]
     },
     "execution_count": 21,
     "metadata": {},
     "output_type": "execute_result"
    }
   ],
   "source": [
    "# total phone screens\n",
    "len(screen.loc[screen['webscreen_status']==9])"
   ]
  },
  {
   "cell_type": "code",
   "execution_count": 22,
   "metadata": {},
   "outputs": [
    {
     "data": {
      "text/plain": [
       "287"
      ]
     },
     "execution_count": 22,
     "metadata": {},
     "output_type": "execute_result"
    }
   ],
   "source": [
    "# number that passed phone screen\n",
    "len(screen.loc[(screen['webscreen_status']==9) & (screen.filter(regex=('.*webscreen_exclusionreason')).sum(axis=1)==0)])"
   ]
  },
  {
   "cell_type": "code",
   "execution_count": 23,
   "metadata": {},
   "outputs": [
    {
     "data": {
      "text/plain": [
       "35"
      ]
     },
     "execution_count": 23,
     "metadata": {},
     "output_type": "execute_result"
    }
   ],
   "source": [
    "# number that failed phone screen\n",
    "len(screen.loc[(screen['webscreen_status']==9) & (screen.filter(regex=('.*webscreen_exclusionreason')).sum(axis=1)>0)])"
   ]
  },
  {
   "cell_type": "code",
   "execution_count": 17,
   "metadata": {},
   "outputs": [],
   "source": [
    "#screen.filter(regex=('.*webscreen_exclusionreason')).loc[screen['webscreen_status']==9].sum(axis=0)"
   ]
  },
  {
   "cell_type": "code",
   "execution_count": 194,
   "metadata": {},
   "outputs": [
    {
     "name": "stderr",
     "output_type": "stream",
     "text": [
      "/var/folders/71/p0nsprlx033b24hgn0jyt5n40000gp/T/ipykernel_33405/1775618466.py:3: SettingWithCopyWarning: \n",
      "A value is trying to be set on a copy of a slice from a DataFrame.\n",
      "Try using .loc[row_indexer,col_indexer] = value instead\n",
      "\n",
      "See the caveats in the documentation: https://pandas.pydata.org/pandas-docs/stable/user_guide/indexing.html#returning-a-view-versus-a-copy\n",
      "  failed_webscreen['fail_aud'] = np.nan\n",
      "/var/folders/71/p0nsprlx033b24hgn0jyt5n40000gp/T/ipykernel_33405/1775618466.py:4: SettingWithCopyWarning: \n",
      "A value is trying to be set on a copy of a slice from a DataFrame.\n",
      "Try using .loc[row_indexer,col_indexer] = value instead\n",
      "\n",
      "See the caveats in the documentation: https://pandas.pydata.org/pandas-docs/stable/user_guide/indexing.html#returning-a-view-versus-a-copy\n",
      "  failed_webscreen['fail_sleep'] = np.nan\n",
      "/var/folders/71/p0nsprlx033b24hgn0jyt5n40000gp/T/ipykernel_33405/1775618466.py:5: SettingWithCopyWarning: \n",
      "A value is trying to be set on a copy of a slice from a DataFrame.\n",
      "Try using .loc[row_indexer,col_indexer] = value instead\n",
      "\n",
      "See the caveats in the documentation: https://pandas.pydata.org/pandas-docs/stable/user_guide/indexing.html#returning-a-view-versus-a-copy\n",
      "  failed_webscreen['fail_age'] = np.nan\n",
      "/var/folders/71/p0nsprlx033b24hgn0jyt5n40000gp/T/ipykernel_33405/1775618466.py:6: SettingWithCopyWarning: \n",
      "A value is trying to be set on a copy of a slice from a DataFrame.\n",
      "Try using .loc[row_indexer,col_indexer] = value instead\n",
      "\n",
      "See the caveats in the documentation: https://pandas.pydata.org/pandas-docs/stable/user_guide/indexing.html#returning-a-view-versus-a-copy\n",
      "  failed_webscreen['fail_no_phone'] = np.nan\n",
      "/var/folders/71/p0nsprlx033b24hgn0jyt5n40000gp/T/ipykernel_33405/1775618466.py:7: SettingWithCopyWarning: \n",
      "A value is trying to be set on a copy of a slice from a DataFrame.\n",
      "Try using .loc[row_indexer,col_indexer] = value instead\n",
      "\n",
      "See the caveats in the documentation: https://pandas.pydata.org/pandas-docs/stable/user_guide/indexing.html#returning-a-view-versus-a-copy\n",
      "  failed_webscreen['fail_android'] = np.nan\n",
      "/var/folders/71/p0nsprlx033b24hgn0jyt5n40000gp/T/ipykernel_33405/1775618466.py:8: SettingWithCopyWarning: \n",
      "A value is trying to be set on a copy of a slice from a DataFrame.\n",
      "Try using .loc[row_indexer,col_indexer] = value instead\n",
      "\n",
      "See the caveats in the documentation: https://pandas.pydata.org/pandas-docs/stable/user_guide/indexing.html#returning-a-view-versus-a-copy\n",
      "  failed_webscreen['fail_not_complete'] = np.nan\n",
      "/var/folders/71/p0nsprlx033b24hgn0jyt5n40000gp/T/ipykernel_33405/1775618466.py:9: SettingWithCopyWarning: \n",
      "A value is trying to be set on a copy of a slice from a DataFrame.\n",
      "Try using .loc[row_indexer,col_indexer] = value instead\n",
      "\n",
      "See the caveats in the documentation: https://pandas.pydata.org/pandas-docs/stable/user_guide/indexing.html#returning-a-view-versus-a-copy\n",
      "  failed_webscreen['fail_lost_contact'] = np.nan\n"
     ]
    }
   ],
   "source": [
    "failed_webscreen = screen[(screen['webscreen_status'].isna()) | (screen['webscreen_status']!=9)]\n",
    "#len(failed_webscreen)\n",
    "failed_webscreen['fail_aud'] = np.nan\n",
    "failed_webscreen['fail_sleep'] = np.nan\n",
    "failed_webscreen['fail_age'] = np.nan\n",
    "failed_webscreen['fail_no_phone'] = np.nan\n",
    "failed_webscreen['fail_android'] = np.nan\n",
    "failed_webscreen['fail_not_complete'] = np.nan\n",
    "failed_webscreen['fail_lost_contact'] = np.nan"
   ]
  },
  {
   "attachments": {},
   "cell_type": "markdown",
   "metadata": {},
   "source": [
    "Exclusion criteria:\n",
    "\n",
    "[auditc_total] < 4 or \n",
    "\n",
    "(([screen_sleep_trouble]<2 AND [jenkins_toggle]=0) OR ([screen_sleep_trouble]='' AND [jenkins_toggle]<1)) or\n",
    "\n",
    "[age_v2] <> '1' or [webscreen_smartphone]=2 or [webscreen_smartphone_have]=0"
   ]
  },
  {
   "cell_type": "code",
   "execution_count": 195,
   "metadata": {},
   "outputs": [],
   "source": [
    "for i, row in failed_webscreen.iterrows():\n",
    "    other_reason = False\n",
    "    if row['auditc_total'] < 4:\n",
    "        failed_webscreen.loc[failed_webscreen['record_id']==row['record_id'], 'fail_aud'] = 'AUD'\n",
    "        other_reason = True\n",
    "    if (row['screen_sleep_trouble']<2 and row['jenkins_toggle']==0) or (not np.isfinite(row['screen_sleep_trouble']) and row['jenkins_toggle']<1):\n",
    "        failed_webscreen.loc[failed_webscreen['record_id']==row['record_id'], 'fail_sleep'] = 'SLEEP'\n",
    "        other_reason = True\n",
    "    if row['age_v2'] != 1:\n",
    "        failed_webscreen.loc[failed_webscreen['record_id']==row['record_id'], 'fail_age'] = 'AGE'\n",
    "        other_reason = True\n",
    "    if row['webscreen_smartphone_have'] == 0 or not np.isfinite(row['webscreen_smartphone_have']):\n",
    "        failed_webscreen.loc[failed_webscreen['record_id']==row['record_id'], 'fail_no_phone'] = 'PHONE'\n",
    "        other_reason = True\n",
    "    if row['webscreen_smartphone'] == 2:\n",
    "        failed_webscreen.loc[failed_webscreen['record_id']==row['record_id'], 'fail_android'] = 'ANDROID'\n",
    "        other_reason = True\n",
    "    if row['screen_form_complete'] == 0 and not other_reason:\n",
    "        failed_webscreen.loc[failed_webscreen['record_id']==row['record_id'], 'fail_not_complete'] = 'FORM_NOT_COMPLETE'\n",
    "    if row['screen_form_complete'] != 0 and not other_reason:\n",
    "        failed_webscreen.loc[failed_webscreen['record_id']==row['record_id'], 'fail_lost_contact'] = 'NOT_INTERESTED/LOST_CONTACT'\n"
   ]
  },
  {
   "cell_type": "code",
   "execution_count": 125,
   "metadata": {},
   "outputs": [],
   "source": [
    "#failed_webscreen.to_csv('test.csv', index=False)"
   ]
  },
  {
   "cell_type": "code",
   "execution_count": 196,
   "metadata": {},
   "outputs": [
    {
     "name": "stderr",
     "output_type": "stream",
     "text": [
      "/var/folders/71/p0nsprlx033b24hgn0jyt5n40000gp/T/ipykernel_33405/1196068046.py:1: SettingWithCopyWarning: \n",
      "A value is trying to be set on a copy of a slice from a DataFrame.\n",
      "Try using .loc[row_indexer,col_indexer] = value instead\n",
      "\n",
      "See the caveats in the documentation: https://pandas.pydata.org/pandas-docs/stable/user_guide/indexing.html#returning-a-view-versus-a-copy\n",
      "  failed_webscreen['exclusion_reasons'] = failed_webscreen[['fail_aud','fail_sleep','fail_age','fail_no_phone','fail_android','fail_not_complete','fail_lost_contact']].fillna('').agg(','.join, axis=1)\n",
      "/var/folders/71/p0nsprlx033b24hgn0jyt5n40000gp/T/ipykernel_33405/1196068046.py:2: SettingWithCopyWarning: \n",
      "A value is trying to be set on a copy of a slice from a DataFrame.\n",
      "Try using .loc[row_indexer,col_indexer] = value instead\n",
      "\n",
      "See the caveats in the documentation: https://pandas.pydata.org/pandas-docs/stable/user_guide/indexing.html#returning-a-view-versus-a-copy\n",
      "  failed_webscreen['exclusion_reasons'] = failed_webscreen['exclusion_reasons'].apply(lambda x: x.strip(','))\n"
     ]
    }
   ],
   "source": [
    "failed_webscreen['exclusion_reasons'] = failed_webscreen[['fail_aud','fail_sleep','fail_age','fail_no_phone','fail_android','fail_not_complete','fail_lost_contact']].fillna('').agg(','.join, axis=1)\n",
    "failed_webscreen['exclusion_reasons'] = failed_webscreen['exclusion_reasons'].apply(lambda x: x.strip(','))"
   ]
  },
  {
   "cell_type": "code",
   "execution_count": 197,
   "metadata": {},
   "outputs": [],
   "source": [
    "failed_webscreen.loc[failed_webscreen['exclusion_reasons']==''].to_csv('test1.csv', index=False)"
   ]
  },
  {
   "cell_type": "code",
   "execution_count": 198,
   "metadata": {},
   "outputs": [
    {
     "data": {
      "text/plain": [
       "AGE,PHONE                      1365\n",
       "SLEEP,AGE,PHONE                 716\n",
       "ANDROID                         461\n",
       "PHONE                           433\n",
       "NOT_INTERESTED/LOST_CONTACT     274\n",
       "FORM_NOT_COMPLETE               205\n",
       "AUD,,,PHONE                      88\n",
       "AUD                              59\n",
       "SLEEP,,PHONE                     43\n",
       "AUD,,,,ANDROID                   41\n",
       "AUD,,AGE,PHONE                   31\n",
       "AUD,SLEEP,AGE,PHONE              27\n",
       "AUD,SLEEP,,PHONE                 17\n",
       "SLEEP                             5\n",
       "AUD,SLEEP                         4\n",
       "SLEEP,,,ANDROID                   4\n",
       "AUD,SLEEP,,,ANDROID               2\n",
       "AGE,,ANDROID                      2\n",
       "AUD,,AGE                          1\n",
       "AGE                               1\n",
       "Name: exclusion_reasons, dtype: int64"
      ]
     },
     "execution_count": 198,
     "metadata": {},
     "output_type": "execute_result"
    }
   ],
   "source": [
    "failed_webscreen['exclusion_reasons'].value_counts()"
   ]
  },
  {
   "cell_type": "code",
   "execution_count": 199,
   "metadata": {},
   "outputs": [],
   "source": [
    "failed_webscreen['exclusion_reasons'].value_counts().to_csv('exclusion_reasons.csv', index=True)"
   ]
  }
 ],
 "metadata": {
  "kernelspec": {
   "display_name": "base",
   "language": "python",
   "name": "python3"
  },
  "language_info": {
   "codemirror_mode": {
    "name": "ipython",
    "version": 3
   },
   "file_extension": ".py",
   "mimetype": "text/x-python",
   "name": "python",
   "nbconvert_exporter": "python",
   "pygments_lexer": "ipython3",
   "version": "3.10.9"
  },
  "orig_nbformat": 4,
  "vscode": {
   "interpreter": {
    "hash": "b9d6282867b9ecaabfb12121d4dec005ddc8547876c5b63eb68cd60c70f99813"
   }
  }
 },
 "nbformat": 4,
 "nbformat_minor": 2
}
