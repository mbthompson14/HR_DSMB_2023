{
 "cells": [
  {
   "cell_type": "code",
   "execution_count": 51,
   "metadata": {},
   "outputs": [],
   "source": [
    "import pandas as pd\n",
    "import scipy.stats as stats"
   ]
  },
  {
   "attachments": {},
   "cell_type": "markdown",
   "metadata": {},
   "source": [
    "demographics: run t-tests for age, chi-squared for the rest"
   ]
  },
  {
   "cell_type": "code",
   "execution_count": 52,
   "metadata": {},
   "outputs": [
    {
     "data": {
      "text/html": [
       "<div>\n",
       "<style scoped>\n",
       "    .dataframe tbody tr th:only-of-type {\n",
       "        vertical-align: middle;\n",
       "    }\n",
       "\n",
       "    .dataframe tbody tr th {\n",
       "        vertical-align: top;\n",
       "    }\n",
       "\n",
       "    .dataframe thead th {\n",
       "        text-align: right;\n",
       "    }\n",
       "</style>\n",
       "<table border=\"1\" class=\"dataframe\">\n",
       "  <thead>\n",
       "    <tr style=\"text-align: right;\">\n",
       "      <th></th>\n",
       "      <th>ID</th>\n",
       "      <th>ID.1</th>\n",
       "      <th>SEX</th>\n",
       "      <th>DATEOFBIRTH</th>\n",
       "      <th>AGE</th>\n",
       "      <th>ETHNICITY</th>\n",
       "      <th>RACE</th>\n",
       "    </tr>\n",
       "  </thead>\n",
       "  <tbody>\n",
       "    <tr>\n",
       "      <th>0</th>\n",
       "      <td>CF017AUD  (Cue)</td>\n",
       "      <td>CUE</td>\n",
       "      <td>Female (0)</td>\n",
       "      <td>1996-09-29</td>\n",
       "      <td>26</td>\n",
       "      <td>Not Hispanic or Latino (1)</td>\n",
       "      <td>White (3)</td>\n",
       "    </tr>\n",
       "    <tr>\n",
       "      <th>1</th>\n",
       "      <td>CF021AUD  (Cue)</td>\n",
       "      <td>CUE</td>\n",
       "      <td>Female (0)</td>\n",
       "      <td>1968-04-17</td>\n",
       "      <td>55</td>\n",
       "      <td>Not Hispanic or Latino (1)</td>\n",
       "      <td>White (3)</td>\n",
       "    </tr>\n",
       "    <tr>\n",
       "      <th>2</th>\n",
       "      <td>CF026AUD  (Cue)</td>\n",
       "      <td>CUE</td>\n",
       "      <td>Female (0)</td>\n",
       "      <td>1979-01-30</td>\n",
       "      <td>44</td>\n",
       "      <td>Not Hispanic or Latino (1)</td>\n",
       "      <td>White (3)</td>\n",
       "    </tr>\n",
       "    <tr>\n",
       "      <th>3</th>\n",
       "      <td>CF037AUD  (Cue)</td>\n",
       "      <td>CUE</td>\n",
       "      <td>Female (0)</td>\n",
       "      <td>1997-04-13</td>\n",
       "      <td>26</td>\n",
       "      <td>Not Hispanic or Latino (1)</td>\n",
       "      <td>White (3)</td>\n",
       "    </tr>\n",
       "    <tr>\n",
       "      <th>4</th>\n",
       "      <td>CF041AUD  (Cue)</td>\n",
       "      <td>CUE</td>\n",
       "      <td>Female (0)</td>\n",
       "      <td>1994-02-04</td>\n",
       "      <td>29</td>\n",
       "      <td>Not Hispanic or Latino (1)</td>\n",
       "      <td>White (3)</td>\n",
       "    </tr>\n",
       "    <tr>\n",
       "      <th>...</th>\n",
       "      <td>...</td>\n",
       "      <td>...</td>\n",
       "      <td>...</td>\n",
       "      <td>...</td>\n",
       "      <td>...</td>\n",
       "      <td>...</td>\n",
       "      <td>...</td>\n",
       "    </tr>\n",
       "    <tr>\n",
       "      <th>117</th>\n",
       "      <td>MM291AUD  (Measure)</td>\n",
       "      <td>MEASURE</td>\n",
       "      <td>Male (1)</td>\n",
       "      <td>1990-08-06</td>\n",
       "      <td>33</td>\n",
       "      <td>Not Hispanic or Latino (1)</td>\n",
       "      <td>Black or African American (2)</td>\n",
       "    </tr>\n",
       "    <tr>\n",
       "      <th>118</th>\n",
       "      <td>MM312AUD  (Measure)</td>\n",
       "      <td>MEASURE</td>\n",
       "      <td>Male (1)</td>\n",
       "      <td>1979-02-28</td>\n",
       "      <td>44</td>\n",
       "      <td>Not Hispanic or Latino (1)</td>\n",
       "      <td>White (3)</td>\n",
       "    </tr>\n",
       "    <tr>\n",
       "      <th>119</th>\n",
       "      <td>MM315AUD  (Measure)</td>\n",
       "      <td>MEASURE</td>\n",
       "      <td>Male (1)</td>\n",
       "      <td>1952-06-24</td>\n",
       "      <td>71</td>\n",
       "      <td>Not Hispanic or Latino (1)</td>\n",
       "      <td>White (3)</td>\n",
       "    </tr>\n",
       "    <tr>\n",
       "      <th>120</th>\n",
       "      <td>MM318AUD  (Measure)</td>\n",
       "      <td>MEASURE</td>\n",
       "      <td>Male (1)</td>\n",
       "      <td>1998-09-16</td>\n",
       "      <td>24</td>\n",
       "      <td>Not Hispanic or Latino (1)</td>\n",
       "      <td>White (3)</td>\n",
       "    </tr>\n",
       "    <tr>\n",
       "      <th>121</th>\n",
       "      <td>MM321AUD  (Measure)</td>\n",
       "      <td>MEASURE</td>\n",
       "      <td>Male (1)</td>\n",
       "      <td>1975-01-19</td>\n",
       "      <td>48</td>\n",
       "      <td>Not Hispanic or Latino (1)</td>\n",
       "      <td>White (3)</td>\n",
       "    </tr>\n",
       "  </tbody>\n",
       "</table>\n",
       "<p>122 rows × 7 columns</p>\n",
       "</div>"
      ],
      "text/plain": [
       "                      ID     ID.1         SEX DATEOFBIRTH  AGE  \\\n",
       "0        CF017AUD  (Cue)      CUE  Female (0)  1996-09-29   26   \n",
       "1        CF021AUD  (Cue)      CUE  Female (0)  1968-04-17   55   \n",
       "2        CF026AUD  (Cue)      CUE  Female (0)  1979-01-30   44   \n",
       "3        CF037AUD  (Cue)      CUE  Female (0)  1997-04-13   26   \n",
       "4        CF041AUD  (Cue)      CUE  Female (0)  1994-02-04   29   \n",
       "..                   ...      ...         ...         ...  ...   \n",
       "117  MM291AUD  (Measure)  MEASURE    Male (1)  1990-08-06   33   \n",
       "118  MM312AUD  (Measure)  MEASURE    Male (1)  1979-02-28   44   \n",
       "119  MM315AUD  (Measure)  MEASURE    Male (1)  1952-06-24   71   \n",
       "120  MM318AUD  (Measure)  MEASURE    Male (1)  1998-09-16   24   \n",
       "121  MM321AUD  (Measure)  MEASURE    Male (1)  1975-01-19   48   \n",
       "\n",
       "                      ETHNICITY                           RACE  \n",
       "0    Not Hispanic or Latino (1)                      White (3)  \n",
       "1    Not Hispanic or Latino (1)                      White (3)  \n",
       "2    Not Hispanic or Latino (1)                      White (3)  \n",
       "3    Not Hispanic or Latino (1)                      White (3)  \n",
       "4    Not Hispanic or Latino (1)                      White (3)  \n",
       "..                          ...                            ...  \n",
       "117  Not Hispanic or Latino (1)  Black or African American (2)  \n",
       "118  Not Hispanic or Latino (1)                      White (3)  \n",
       "119  Not Hispanic or Latino (1)                      White (3)  \n",
       "120  Not Hispanic or Latino (1)                      White (3)  \n",
       "121  Not Hispanic or Latino (1)                      White (3)  \n",
       "\n",
       "[122 rows x 7 columns]"
      ]
     },
     "execution_count": 52,
     "metadata": {},
     "output_type": "execute_result"
    }
   ],
   "source": [
    "df = pd.read_excel('NIAAA_demographics_122_invalid_excluded.xlsx')\n",
    "df"
   ]
  },
  {
   "cell_type": "code",
   "execution_count": 53,
   "metadata": {},
   "outputs": [
    {
     "data": {
      "text/plain": [
       "Ttest_indResult(statistic=-1.0408475407181117, pvalue=0.3000388421650847)"
      ]
     },
     "execution_count": 53,
     "metadata": {},
     "output_type": "execute_result"
    }
   ],
   "source": [
    "cue_age = df.loc[df['ID.1']=='CUE','AGE']\n",
    "measure_age = df.loc[df['ID.1']=='MEASURE','AGE']\n",
    "stats.ttest_ind(a=cue_age,b=measure_age,equal_var=True)"
   ]
  },
  {
   "cell_type": "code",
   "execution_count": 54,
   "metadata": {},
   "outputs": [
    {
     "data": {
      "text/plain": [
       "Chi2ContingencyResult(statistic=1.0732491212014346, pvalue=0.3002126978838515, dof=1, expected_freq=array([[35.30327869, 23.69672131],\n",
       "       [37.69672131, 25.30327869]]))"
      ]
     },
     "execution_count": 54,
     "metadata": {},
     "output_type": "execute_result"
    }
   ],
   "source": [
    "sex_table = [[df.loc[df['ID.1']=='CUE','SEX'].value_counts()[0],df.loc[df['ID.1']=='CUE','SEX'].value_counts()[1]],\n",
    "[df.loc[df['ID.1']=='MEASURE','SEX'].value_counts()[0],df.loc[df['ID.1']=='MEASURE','SEX'].value_counts()[1]]]\n",
    "\n",
    "stats.chi2_contingency(sex_table)"
   ]
  },
  {
   "cell_type": "code",
   "execution_count": 55,
   "metadata": {},
   "outputs": [
    {
     "data": {
      "text/plain": [
       "Chi2ContingencyResult(statistic=1.5252539810651193, pvalue=0.46643948402316593, dof=2, expected_freq=array([[54.16393443,  3.3852459 ,  1.45081967],\n",
       "       [57.83606557,  3.6147541 ,  1.54918033]]))"
      ]
     },
     "execution_count": 55,
     "metadata": {},
     "output_type": "execute_result"
    }
   ],
   "source": [
    "eth_table = [[df.loc[df['ID.1']=='CUE','ETHNICITY'].value_counts()[0],df.loc[df['ID.1']=='CUE','ETHNICITY'].value_counts()[1],df.loc[df['ID.1']=='CUE','ETHNICITY'].value_counts()[2]],\n",
    "[df.loc[df['ID.1']=='MEASURE','ETHNICITY'].value_counts()[0],df.loc[df['ID.1']=='MEASURE','ETHNICITY'].value_counts()[1],df.loc[df['ID.1']=='MEASURE','ETHNICITY'].value_counts()[2]]]\n",
    "\n",
    "stats.chi2_contingency(eth_table)"
   ]
  },
  {
   "cell_type": "code",
   "execution_count": 56,
   "metadata": {},
   "outputs": [
    {
     "data": {
      "text/plain": [
       "Chi2ContingencyResult(statistic=3.9877696986370967, pvalue=0.6783316023161963, dof=6, expected_freq=array([[41.10655738, 12.57377049,  1.45081967,  0.96721311,  0.48360656,\n",
       "         1.45081967,  0.96721311],\n",
       "       [43.89344262, 13.42622951,  1.54918033,  1.03278689,  0.51639344,\n",
       "         1.54918033,  1.03278689]]))"
      ]
     },
     "execution_count": 56,
     "metadata": {},
     "output_type": "execute_result"
    }
   ],
   "source": [
    "race_table = [[40,14,2,0,1,1,1],[45,12,1,2,0,2,1]]\n",
    "stats.chi2_contingency(race_table)"
   ]
  },
  {
   "cell_type": "code",
   "execution_count": 57,
   "metadata": {},
   "outputs": [],
   "source": [
    "# race_table = [[df.loc[df['ID.1']=='CUE','RACE'].value_counts()[0],df.loc[df['ID.1']=='CUE','RACE'].value_counts()[1],\n",
    "#               df.loc[df['ID.1']=='CUE','RACE'].value_counts()[2],df.loc[df['ID.1']=='CUE','RACE'].value_counts()[3],\n",
    "#               df.loc[df['ID.1']=='CUE','RACE'].value_counts()[4],df.loc[df['ID.1']=='CUE','RACE'].value_counts()[5]],\n",
    "# [df.loc[df['ID.1']=='MEASURE','RACE'].value_counts()[0],df.loc[df['ID.1']=='MEASURE','RACE'].value_counts()[1],\n",
    "#  df.loc[df['ID.1']=='MEASURE','RACE'].value_counts()[2],df.loc[df['ID.1']=='MEASURE','RACE'].value_counts()[3],\n",
    "#  df.loc[df['ID.1']=='MEASURE','RACE'].value_counts()[4],df.loc[df['ID.1']=='MEASURE','RACE'].value_counts()[5]]]\n",
    "\n",
    "# stats.chi2_contingency(race_table)"
   ]
  },
  {
   "cell_type": "code",
   "execution_count": 58,
   "metadata": {},
   "outputs": [],
   "source": [
    "# df.loc[df['ID.1']=='CUE','RACE'].value_counts()"
   ]
  },
  {
   "cell_type": "code",
   "execution_count": 59,
   "metadata": {},
   "outputs": [],
   "source": [
    "# df.loc[df['ID.1']=='MEASURE','RACE'].value_counts()"
   ]
  }
 ],
 "metadata": {
  "kernelspec": {
   "display_name": "base",
   "language": "python",
   "name": "python3"
  },
  "language_info": {
   "codemirror_mode": {
    "name": "ipython",
    "version": 3
   },
   "file_extension": ".py",
   "mimetype": "text/x-python",
   "name": "python",
   "nbconvert_exporter": "python",
   "pygments_lexer": "ipython3",
   "version": "3.10.9"
  },
  "orig_nbformat": 4
 },
 "nbformat": 4,
 "nbformat_minor": 2
}
