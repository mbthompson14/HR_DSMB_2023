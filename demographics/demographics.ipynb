{
 "cells": [
  {
   "cell_type": "code",
   "execution_count": 48,
   "metadata": {},
   "outputs": [],
   "source": [
    "import pandas as pd\n",
    "import scipy.stats as stats"
   ]
  },
  {
   "attachments": {},
   "cell_type": "markdown",
   "metadata": {},
   "source": [
    "demographics: run t-tests for age, chi-squared for the rest"
   ]
  },
  {
   "cell_type": "code",
   "execution_count": 49,
   "metadata": {},
   "outputs": [
    {
     "data": {
      "text/html": [
       "<div>\n",
       "<style scoped>\n",
       "    .dataframe tbody tr th:only-of-type {\n",
       "        vertical-align: middle;\n",
       "    }\n",
       "\n",
       "    .dataframe tbody tr th {\n",
       "        vertical-align: top;\n",
       "    }\n",
       "\n",
       "    .dataframe thead th {\n",
       "        text-align: right;\n",
       "    }\n",
       "</style>\n",
       "<table border=\"1\" class=\"dataframe\">\n",
       "  <thead>\n",
       "    <tr style=\"text-align: right;\">\n",
       "      <th></th>\n",
       "      <th>ID</th>\n",
       "      <th>ID.1</th>\n",
       "      <th>SEX</th>\n",
       "      <th>DATEOFBIRTH</th>\n",
       "      <th>AGE</th>\n",
       "      <th>ETHNICITY</th>\n",
       "      <th>RACE</th>\n",
       "    </tr>\n",
       "  </thead>\n",
       "  <tbody>\n",
       "    <tr>\n",
       "      <th>0</th>\n",
       "      <td>CF017AUD  (Cue)</td>\n",
       "      <td>CUE</td>\n",
       "      <td>Female (0)</td>\n",
       "      <td>1996-09-29</td>\n",
       "      <td>26.0</td>\n",
       "      <td>Not Hispanic or Latino (1)</td>\n",
       "      <td>White (3)</td>\n",
       "    </tr>\n",
       "    <tr>\n",
       "      <th>1</th>\n",
       "      <td>CF021AUD  (Cue)</td>\n",
       "      <td>CUE</td>\n",
       "      <td>Female (0)</td>\n",
       "      <td>1968-04-17</td>\n",
       "      <td>55.0</td>\n",
       "      <td>Not Hispanic or Latino (1)</td>\n",
       "      <td>White (3)</td>\n",
       "    </tr>\n",
       "    <tr>\n",
       "      <th>2</th>\n",
       "      <td>CF026AUD  (Cue)</td>\n",
       "      <td>CUE</td>\n",
       "      <td>Female (0)</td>\n",
       "      <td>1979-01-30</td>\n",
       "      <td>44.0</td>\n",
       "      <td>Not Hispanic or Latino (1)</td>\n",
       "      <td>White (3)</td>\n",
       "    </tr>\n",
       "    <tr>\n",
       "      <th>3</th>\n",
       "      <td>CF037AUD  (Cue)</td>\n",
       "      <td>CUE</td>\n",
       "      <td>Female (0)</td>\n",
       "      <td>1997-04-13</td>\n",
       "      <td>26.0</td>\n",
       "      <td>Not Hispanic or Latino (1)</td>\n",
       "      <td>White (3)</td>\n",
       "    </tr>\n",
       "    <tr>\n",
       "      <th>4</th>\n",
       "      <td>CF041AUD  (Cue)</td>\n",
       "      <td>CUE</td>\n",
       "      <td>Female (0)</td>\n",
       "      <td>1994-02-04</td>\n",
       "      <td>29.0</td>\n",
       "      <td>Not Hispanic or Latino (1)</td>\n",
       "      <td>White (3)</td>\n",
       "    </tr>\n",
       "    <tr>\n",
       "      <th>...</th>\n",
       "      <td>...</td>\n",
       "      <td>...</td>\n",
       "      <td>...</td>\n",
       "      <td>...</td>\n",
       "      <td>...</td>\n",
       "      <td>...</td>\n",
       "      <td>...</td>\n",
       "    </tr>\n",
       "    <tr>\n",
       "      <th>118</th>\n",
       "      <td>MM312AUD  (Measure)</td>\n",
       "      <td>MEASURE</td>\n",
       "      <td>Male (1)</td>\n",
       "      <td>1979-02-28</td>\n",
       "      <td>44.0</td>\n",
       "      <td>Not Hispanic or Latino (1)</td>\n",
       "      <td>White (3)</td>\n",
       "    </tr>\n",
       "    <tr>\n",
       "      <th>119</th>\n",
       "      <td>MM315AUD  (Measure)</td>\n",
       "      <td>MEASURE</td>\n",
       "      <td>Male (1)</td>\n",
       "      <td>1952-06-24</td>\n",
       "      <td>71.0</td>\n",
       "      <td>Not Hispanic or Latino (1)</td>\n",
       "      <td>White (3)</td>\n",
       "    </tr>\n",
       "    <tr>\n",
       "      <th>120</th>\n",
       "      <td>MM318AUD  (Measure)</td>\n",
       "      <td>MEASURE</td>\n",
       "      <td>Male (1)</td>\n",
       "      <td>1998-09-16</td>\n",
       "      <td>24.0</td>\n",
       "      <td>Not Hispanic or Latino (1)</td>\n",
       "      <td>White (3)</td>\n",
       "    </tr>\n",
       "    <tr>\n",
       "      <th>121</th>\n",
       "      <td>MM321AUD  (Measure)</td>\n",
       "      <td>MEASURE</td>\n",
       "      <td>Male (1)</td>\n",
       "      <td>1975-01-19</td>\n",
       "      <td>48.0</td>\n",
       "      <td>Not Hispanic or Latino (1)</td>\n",
       "      <td>White (3)</td>\n",
       "    </tr>\n",
       "    <tr>\n",
       "      <th>122</th>\n",
       "      <td>MM142AUD (Measure)</td>\n",
       "      <td>MEASURE</td>\n",
       "      <td>Male (1)</td>\n",
       "      <td>NaT</td>\n",
       "      <td>60.0</td>\n",
       "      <td>Not Hispanic or Latino (1)</td>\n",
       "      <td>White (3)</td>\n",
       "    </tr>\n",
       "  </tbody>\n",
       "</table>\n",
       "<p>123 rows × 7 columns</p>\n",
       "</div>"
      ],
      "text/plain": [
       "                      ID     ID.1         SEX DATEOFBIRTH   AGE  \\\n",
       "0        CF017AUD  (Cue)      CUE  Female (0)  1996-09-29  26.0   \n",
       "1        CF021AUD  (Cue)      CUE  Female (0)  1968-04-17  55.0   \n",
       "2        CF026AUD  (Cue)      CUE  Female (0)  1979-01-30  44.0   \n",
       "3        CF037AUD  (Cue)      CUE  Female (0)  1997-04-13  26.0   \n",
       "4        CF041AUD  (Cue)      CUE  Female (0)  1994-02-04  29.0   \n",
       "..                   ...      ...         ...         ...   ...   \n",
       "118  MM312AUD  (Measure)  MEASURE    Male (1)  1979-02-28  44.0   \n",
       "119  MM315AUD  (Measure)  MEASURE    Male (1)  1952-06-24  71.0   \n",
       "120  MM318AUD  (Measure)  MEASURE    Male (1)  1998-09-16  24.0   \n",
       "121  MM321AUD  (Measure)  MEASURE    Male (1)  1975-01-19  48.0   \n",
       "122   MM142AUD (Measure)  MEASURE    Male (1)         NaT  60.0   \n",
       "\n",
       "                      ETHNICITY       RACE  \n",
       "0    Not Hispanic or Latino (1)  White (3)  \n",
       "1    Not Hispanic or Latino (1)  White (3)  \n",
       "2    Not Hispanic or Latino (1)  White (3)  \n",
       "3    Not Hispanic or Latino (1)  White (3)  \n",
       "4    Not Hispanic or Latino (1)  White (3)  \n",
       "..                          ...        ...  \n",
       "118  Not Hispanic or Latino (1)  White (3)  \n",
       "119  Not Hispanic or Latino (1)  White (3)  \n",
       "120  Not Hispanic or Latino (1)  White (3)  \n",
       "121  Not Hispanic or Latino (1)  White (3)  \n",
       "122  Not Hispanic or Latino (1)  White (3)  \n",
       "\n",
       "[123 rows x 7 columns]"
      ]
     },
     "execution_count": 49,
     "metadata": {},
     "output_type": "execute_result"
    }
   ],
   "source": [
    "df = pd.read_excel('NIAAA_demographics_122_invalid_excluded.xlsx')\n",
    "df.loc[122]={'ID':'MM142AUD (Measure)','ID.1':'MEASURE','SEX':'Male (1)','AGE':60.0,'ETHNICITY':'Not Hispanic or Latino (1)','RACE':'White (3)'}\n",
    "df"
   ]
  },
  {
   "cell_type": "code",
   "execution_count": 50,
   "metadata": {},
   "outputs": [
    {
     "data": {
      "text/plain": [
       "Ttest_indResult(statistic=-1.1891014874645554, pvalue=0.2367280322904251)"
      ]
     },
     "execution_count": 50,
     "metadata": {},
     "output_type": "execute_result"
    }
   ],
   "source": [
    "cue_age = df.loc[df['ID.1']=='CUE','AGE']\n",
    "measure_age = df.loc[df['ID.1']=='MEASURE','AGE']\n",
    "stats.ttest_ind(a=cue_age,b=measure_age,equal_var=True)"
   ]
  },
  {
   "cell_type": "code",
   "execution_count": 51,
   "metadata": {},
   "outputs": [
    {
     "data": {
      "text/plain": [
       "Ttest_indResult(statistic=-1.265613682666016, pvalue=0.20812376472646738)"
      ]
     },
     "execution_count": 51,
     "metadata": {},
     "output_type": "execute_result"
    }
   ],
   "source": [
    "cue_age = df.loc[df['ID.1']=='CUE','AGE'].drop(12)\n",
    "measure_age = df.loc[df['ID.1']=='MEASURE','AGE'].drop(84)\n",
    "stats.ttest_ind(a=cue_age,b=measure_age,equal_var=True)"
   ]
  },
  {
   "cell_type": "code",
   "execution_count": 52,
   "metadata": {},
   "outputs": [
    {
     "data": {
      "text/plain": [
       "Chi2ContingencyResult(statistic=1.2198889866442444, pvalue=0.26938243953051677, dof=1, expected_freq=array([[35.49593496, 23.50406504],\n",
       "       [38.50406504, 25.49593496]]))"
      ]
     },
     "execution_count": 52,
     "metadata": {},
     "output_type": "execute_result"
    }
   ],
   "source": [
    "sex_table = [[df.loc[df['ID.1']=='CUE','SEX'].value_counts()[0],df.loc[df['ID.1']=='CUE','SEX'].value_counts()[1]],\n",
    "[df.loc[df['ID.1']=='MEASURE','SEX'].value_counts()[0],df.loc[df['ID.1']=='MEASURE','SEX'].value_counts()[1]]]\n",
    "\n",
    "sex_table_1 = [[32,27],[42,22]]\n",
    "\n",
    "stats.chi2_contingency(sex_table_1)"
   ]
  },
  {
   "cell_type": "code",
   "execution_count": 53,
   "metadata": {},
   "outputs": [
    {
     "data": {
      "text/plain": [
       "Chi2ContingencyResult(statistic=1.4979168452291676, pvalue=0.47285881538028907, dof=2, expected_freq=array([[54.20325203,  3.35772358,  1.43902439],\n",
       "       [58.79674797,  3.64227642,  1.56097561]]))"
      ]
     },
     "execution_count": 53,
     "metadata": {},
     "output_type": "execute_result"
    }
   ],
   "source": [
    "eth_table = [[df.loc[df['ID.1']=='CUE','ETHNICITY'].value_counts()[0],df.loc[df['ID.1']=='CUE','ETHNICITY'].value_counts()[1],df.loc[df['ID.1']=='CUE','ETHNICITY'].value_counts()[2]],\n",
    "[df.loc[df['ID.1']=='MEASURE','ETHNICITY'].value_counts()[0],df.loc[df['ID.1']=='MEASURE','ETHNICITY'].value_counts()[1],df.loc[df['ID.1']=='MEASURE','ETHNICITY'].value_counts()[2]]]\n",
    "\n",
    "eth_table_1 = [[55,2,2],[58,5,1]]\n",
    "\n",
    "stats.chi2_contingency(eth_table_1)"
   ]
  },
  {
   "cell_type": "code",
   "execution_count": 54,
   "metadata": {},
   "outputs": [
    {
     "data": {
      "text/plain": [
       "Chi2ContingencyResult(statistic=4.042545566007702, pvalue=0.6709187159386509, dof=6, expected_freq=array([[41.25203252, 12.47154472,  1.43902439,  0.95934959,  0.4796748 ,\n",
       "         1.43902439,  0.95934959],\n",
       "       [44.74796748, 13.52845528,  1.56097561,  1.04065041,  0.5203252 ,\n",
       "         1.56097561,  1.04065041]]))"
      ]
     },
     "execution_count": 54,
     "metadata": {},
     "output_type": "execute_result"
    }
   ],
   "source": [
    "race_table = [[40,14,2,0,1,1,1],[46,12,1,2,0,2,1]]\n",
    "stats.chi2_contingency(race_table)"
   ]
  },
  {
   "cell_type": "code",
   "execution_count": 55,
   "metadata": {},
   "outputs": [],
   "source": [
    "# race_table = [[df.loc[df['ID.1']=='CUE','RACE'].value_counts()[0],df.loc[df['ID.1']=='CUE','RACE'].value_counts()[1],\n",
    "#               df.loc[df['ID.1']=='CUE','RACE'].value_counts()[2],df.loc[df['ID.1']=='CUE','RACE'].value_counts()[3],\n",
    "#               df.loc[df['ID.1']=='CUE','RACE'].value_counts()[4],df.loc[df['ID.1']=='CUE','RACE'].value_counts()[5]],\n",
    "# [df.loc[df['ID.1']=='MEASURE','RACE'].value_counts()[0],df.loc[df['ID.1']=='MEASURE','RACE'].value_counts()[1],\n",
    "#  df.loc[df['ID.1']=='MEASURE','RACE'].value_counts()[2],df.loc[df['ID.1']=='MEASURE','RACE'].value_counts()[3],\n",
    "#  df.loc[df['ID.1']=='MEASURE','RACE'].value_counts()[4],df.loc[df['ID.1']=='MEASURE','RACE'].value_counts()[5]]]\n",
    "\n",
    "# stats.chi2_contingency(race_table)"
   ]
  },
  {
   "cell_type": "code",
   "execution_count": 56,
   "metadata": {},
   "outputs": [],
   "source": [
    "# df.loc[df['ID.1']=='CUE','RACE'].value_counts()"
   ]
  },
  {
   "cell_type": "code",
   "execution_count": 57,
   "metadata": {},
   "outputs": [],
   "source": [
    "# df.loc[df['ID.1']=='MEASURE','RACE'].value_counts()"
   ]
  }
 ],
 "metadata": {
  "kernelspec": {
   "display_name": "base",
   "language": "python",
   "name": "python3"
  },
  "language_info": {
   "codemirror_mode": {
    "name": "ipython",
    "version": 3
   },
   "file_extension": ".py",
   "mimetype": "text/x-python",
   "name": "python",
   "nbconvert_exporter": "python",
   "pygments_lexer": "ipython3",
   "version": "3.10.9"
  },
  "orig_nbformat": 4
 },
 "nbformat": 4,
 "nbformat_minor": 2
}
