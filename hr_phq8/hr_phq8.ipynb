{
 "cells": [
  {
   "cell_type": "code",
   "execution_count": 81,
   "metadata": {},
   "outputs": [],
   "source": [
    "import pandas as pd\n",
    "import numpy as np\n",
    "import matplotlib.pyplot as plt\n",
    "#from datetime import datetime"
   ]
  },
  {
   "cell_type": "code",
   "execution_count": 82,
   "metadata": {},
   "outputs": [
    {
     "data": {
      "text/html": [
       "<div>\n",
       "<style scoped>\n",
       "    .dataframe tbody tr th:only-of-type {\n",
       "        vertical-align: middle;\n",
       "    }\n",
       "\n",
       "    .dataframe tbody tr th {\n",
       "        vertical-align: top;\n",
       "    }\n",
       "\n",
       "    .dataframe thead th {\n",
       "        text-align: right;\n",
       "    }\n",
       "</style>\n",
       "<table border=\"1\" class=\"dataframe\">\n",
       "  <thead>\n",
       "    <tr style=\"text-align: right;\">\n",
       "      <th></th>\n",
       "      <th>user_id</th>\n",
       "      <th>subject_id</th>\n",
       "      <th>timestamp</th>\n",
       "      <th>survey_name</th>\n",
       "      <th>phq_total</th>\n",
       "    </tr>\n",
       "  </thead>\n",
       "  <tbody>\n",
       "    <tr>\n",
       "      <th>0</th>\n",
       "      <td>us-east-1:08d3bffe-b8c9-4b27-9e77-ce293a58a38b</td>\n",
       "      <td>MM028AUD</td>\n",
       "      <td>2021-12-09 13:19:15.649000-07:00</td>\n",
       "      <td>phq8</td>\n",
       "      <td>9</td>\n",
       "    </tr>\n",
       "    <tr>\n",
       "      <th>1</th>\n",
       "      <td>us-east-1:08d3bffe-b8c9-4b27-9e77-ce293a58a38b</td>\n",
       "      <td>MM028AUD</td>\n",
       "      <td>2021-12-23 10:51:45.087000-07:00</td>\n",
       "      <td>phq8</td>\n",
       "      <td>6</td>\n",
       "    </tr>\n",
       "    <tr>\n",
       "      <th>2</th>\n",
       "      <td>us-east-1:08d3bffe-b8c9-4b27-9e77-ce293a58a38b</td>\n",
       "      <td>MM028AUD</td>\n",
       "      <td>2022-01-07 19:22:33.058000-07:00</td>\n",
       "      <td>phq8</td>\n",
       "      <td>9</td>\n",
       "    </tr>\n",
       "    <tr>\n",
       "      <th>3</th>\n",
       "      <td>us-east-1:08d3bffe-b8c9-4b27-9e77-ce293a58a38b</td>\n",
       "      <td>MM028AUD</td>\n",
       "      <td>2022-01-19 11:58:12.435000-07:00</td>\n",
       "      <td>phq8</td>\n",
       "      <td>6</td>\n",
       "    </tr>\n",
       "    <tr>\n",
       "      <th>4</th>\n",
       "      <td>us-east-1:08d3bffe-b8c9-4b27-9e77-ce293a58a38b</td>\n",
       "      <td>MM028AUD</td>\n",
       "      <td>2022-02-03 13:07:03.003000-07:00</td>\n",
       "      <td>phq8</td>\n",
       "      <td>8</td>\n",
       "    </tr>\n",
       "    <tr>\n",
       "      <th>...</th>\n",
       "      <td>...</td>\n",
       "      <td>...</td>\n",
       "      <td>...</td>\n",
       "      <td>...</td>\n",
       "      <td>...</td>\n",
       "    </tr>\n",
       "    <tr>\n",
       "      <th>673</th>\n",
       "      <td>us-east-1:f8452db9-2ae8-4b94-8dd4-ff8ea21d3235</td>\n",
       "      <td>MF035AUD</td>\n",
       "      <td>2022-03-20 22:08:50.675000-06:00</td>\n",
       "      <td>phq8</td>\n",
       "      <td>6</td>\n",
       "    </tr>\n",
       "    <tr>\n",
       "      <th>674</th>\n",
       "      <td>us-east-1:fc5296f1-c47a-42c6-93ef-13e9d3a8af5c</td>\n",
       "      <td>CM059AUD</td>\n",
       "      <td>2021-12-30 22:01:00.356000-07:00</td>\n",
       "      <td>phq8</td>\n",
       "      <td>5</td>\n",
       "    </tr>\n",
       "    <tr>\n",
       "      <th>675</th>\n",
       "      <td>us-east-1:fc5296f1-c47a-42c6-93ef-13e9d3a8af5c</td>\n",
       "      <td>CM059AUD</td>\n",
       "      <td>2022-01-13 14:48:58.558000-07:00</td>\n",
       "      <td>phq8</td>\n",
       "      <td>2</td>\n",
       "    </tr>\n",
       "    <tr>\n",
       "      <th>676</th>\n",
       "      <td>us-east-1:fc5296f1-c47a-42c6-93ef-13e9d3a8af5c</td>\n",
       "      <td>CM059AUD</td>\n",
       "      <td>2022-01-27 08:51:52.652000-07:00</td>\n",
       "      <td>phq8</td>\n",
       "      <td>3</td>\n",
       "    </tr>\n",
       "    <tr>\n",
       "      <th>677</th>\n",
       "      <td>us-east-1:fc5296f1-c47a-42c6-93ef-13e9d3a8af5c</td>\n",
       "      <td>CM059AUD</td>\n",
       "      <td>2022-03-25 10:39:06.020000-06:00</td>\n",
       "      <td>phq8</td>\n",
       "      <td>3</td>\n",
       "    </tr>\n",
       "  </tbody>\n",
       "</table>\n",
       "<p>678 rows × 5 columns</p>\n",
       "</div>"
      ],
      "text/plain": [
       "                                            user_id subject_id  \\\n",
       "0    us-east-1:08d3bffe-b8c9-4b27-9e77-ce293a58a38b   MM028AUD   \n",
       "1    us-east-1:08d3bffe-b8c9-4b27-9e77-ce293a58a38b   MM028AUD   \n",
       "2    us-east-1:08d3bffe-b8c9-4b27-9e77-ce293a58a38b   MM028AUD   \n",
       "3    us-east-1:08d3bffe-b8c9-4b27-9e77-ce293a58a38b   MM028AUD   \n",
       "4    us-east-1:08d3bffe-b8c9-4b27-9e77-ce293a58a38b   MM028AUD   \n",
       "..                                              ...        ...   \n",
       "673  us-east-1:f8452db9-2ae8-4b94-8dd4-ff8ea21d3235   MF035AUD   \n",
       "674  us-east-1:fc5296f1-c47a-42c6-93ef-13e9d3a8af5c   CM059AUD   \n",
       "675  us-east-1:fc5296f1-c47a-42c6-93ef-13e9d3a8af5c   CM059AUD   \n",
       "676  us-east-1:fc5296f1-c47a-42c6-93ef-13e9d3a8af5c   CM059AUD   \n",
       "677  us-east-1:fc5296f1-c47a-42c6-93ef-13e9d3a8af5c   CM059AUD   \n",
       "\n",
       "                            timestamp survey_name  phq_total  \n",
       "0    2021-12-09 13:19:15.649000-07:00        phq8          9  \n",
       "1    2021-12-23 10:51:45.087000-07:00        phq8          6  \n",
       "2    2022-01-07 19:22:33.058000-07:00        phq8          9  \n",
       "3    2022-01-19 11:58:12.435000-07:00        phq8          6  \n",
       "4    2022-02-03 13:07:03.003000-07:00        phq8          8  \n",
       "..                                ...         ...        ...  \n",
       "673  2022-03-20 22:08:50.675000-06:00        phq8          6  \n",
       "674  2021-12-30 22:01:00.356000-07:00        phq8          5  \n",
       "675  2022-01-13 14:48:58.558000-07:00        phq8          2  \n",
       "676  2022-01-27 08:51:52.652000-07:00        phq8          3  \n",
       "677  2022-03-25 10:39:06.020000-06:00        phq8          3  \n",
       "\n",
       "[678 rows x 5 columns]"
      ]
     },
     "execution_count": 82,
     "metadata": {},
     "output_type": "execute_result"
    }
   ],
   "source": [
    "# read in relevant cols, convert timestamp col to datetime\n",
    "cols = pd.read_csv(\"phq_scores_niaaa_20230715.csv\", nrows=1).columns\n",
    "df = pd.read_csv(\"phq_scores_niaaa_20230715.csv\", usecols=cols[1:])\n",
    "#df['timestamp'] = df['timestamp'].apply(lambda x: datetime.strptime(x.split('.')[0], '%Y-%m-%dT%H:%M:%S'))\n",
    "#df['timestamp'] = df['timestamp'].apply(lambda x: np.datetime64(x))\n",
    "df['timestamp'] = df['timestamp'].apply(lambda x: pd.to_datetime(x))\n",
    "\n",
    "# fix typos\n",
    "df.replace({'C102AUD':'CF102AUD','Mm095AUD':'MM095AUD','CM085 AUD':'CM085AUD','Mf087AUD':'MF087AUD','Mm119AUD':'MM119AUD'}, inplace=True)\n",
    "\n",
    "# remove invalid pts\n",
    "nonvalid = ['CF270AUD','CF285AUD','CF286AUD','CM229AUD','CM236AUD','CM237AUD','CM251AUD','CM256AUD','CM271AUD','CM287AUD','CM301AUD','MF246AUD','MF249AUD','MF272AUD','MM216AUD','MM250AUD','MM260AUD','MM282AUD','MM293AUD','MM290AUD', 'CF241AUD', 'CF231AUD']\n",
    "#drop_list = ['CM236AUD','CM256AUD','MM293AUD']\n",
    "df = df.loc[~df['subject_id'].isin(nonvalid)].reset_index().drop(columns=['index'])\n",
    "#drop_indices = df.loc[df['subject_id'].isin(nonvalid),'subject_id'].index\n",
    "#df.drop(drop_indices, inplace=True)\n",
    "\n",
    "df"
   ]
  },
  {
   "cell_type": "code",
   "execution_count": 83,
   "metadata": {},
   "outputs": [
    {
     "data": {
      "text/plain": [
       "user_id        106\n",
       "subject_id     103\n",
       "timestamp      678\n",
       "survey_name      1\n",
       "phq_total       24\n",
       "dtype: int64"
      ]
     },
     "execution_count": 83,
     "metadata": {},
     "output_type": "execute_result"
    }
   ],
   "source": [
    "df.nunique()"
   ]
  },
  {
   "cell_type": "code",
   "execution_count": 84,
   "metadata": {},
   "outputs": [
    {
     "data": {
      "text/plain": [
       "record_id            142\n",
       "redcap_event_name      1\n",
       "visit_date           121\n",
       "eligible_status        1\n",
       "dtype: int64"
      ]
     },
     "execution_count": 84,
     "metadata": {},
     "output_type": "execute_result"
    }
   ],
   "source": [
    "# read in basline date reference\n",
    "df_ref = pd.read_csv(\"HealthRhythmsAUDCTSI-BaselineDates_DATA_2023-07-27_1631.csv\")\n",
    "#df_ref.dropna(inplace=True)\n",
    "#df_ref = df_ref.loc[df_ref['record_id'] != 'PM142AUD']\n",
    "#df_ref['visit_date'] = df_ref['visit_date'].apply(lambda x: datetime.strptime(x, '%Y-%m-%d'))\n",
    "#df_ref['visit_date'] = df_ref['visit_date'].apply(lambda x: np.datetime64(x))\n",
    "df_ref['visit_date'] = df_ref['visit_date'].apply(lambda x: pd.to_datetime(x))\n",
    "df_ref.nunique()"
   ]
  },
  {
   "cell_type": "code",
   "execution_count": 85,
   "metadata": {},
   "outputs": [],
   "source": [
    "def get_study_week(row):\n",
    "    baseline_date = pd.to_datetime(df_ref.loc[df_ref['record_id']==row['subject_id'],['visit_date']].values[0][0]).date()\n",
    "    date_of_interest = row['timestamp'].date()\n",
    "    td = date_of_interest-baseline_date\n",
    "    return round(td.days/7,0), td.days\n",
    "\n",
    "#get_study_week(df.iloc[0])"
   ]
  },
  {
   "cell_type": "code",
   "execution_count": 86,
   "metadata": {},
   "outputs": [],
   "source": [
    "for i, row in df.iterrows():\n",
    "    try:\n",
    "        df.loc[df.index[i],\"study_week\"], df.loc[df.index[i],\"study_days\"] = get_study_week(row)\n",
    "    except:\n",
    "        df.loc[df.index[i],\"study_week\"], df.loc[df.index[i],\"study_days\"] = np.nan, np.nan"
   ]
  },
  {
   "cell_type": "code",
   "execution_count": 87,
   "metadata": {},
   "outputs": [
    {
     "data": {
      "text/html": [
       "<div>\n",
       "<style scoped>\n",
       "    .dataframe tbody tr th:only-of-type {\n",
       "        vertical-align: middle;\n",
       "    }\n",
       "\n",
       "    .dataframe tbody tr th {\n",
       "        vertical-align: top;\n",
       "    }\n",
       "\n",
       "    .dataframe thead th {\n",
       "        text-align: right;\n",
       "    }\n",
       "</style>\n",
       "<table border=\"1\" class=\"dataframe\">\n",
       "  <thead>\n",
       "    <tr style=\"text-align: right;\">\n",
       "      <th></th>\n",
       "      <th>user_id</th>\n",
       "      <th>subject_id</th>\n",
       "      <th>timestamp</th>\n",
       "      <th>survey_name</th>\n",
       "      <th>phq_total</th>\n",
       "      <th>study_week</th>\n",
       "      <th>study_days</th>\n",
       "    </tr>\n",
       "  </thead>\n",
       "  <tbody>\n",
       "    <tr>\n",
       "      <th>289</th>\n",
       "      <td>us-east-1:738c17d3-a1e2-434c-b982-357b48768331</td>\n",
       "      <td>CM106AUD</td>\n",
       "      <td>2022-02-18 14:11:55.782000-07:00</td>\n",
       "      <td>phq8</td>\n",
       "      <td>4</td>\n",
       "      <td>NaN</td>\n",
       "      <td>NaN</td>\n",
       "    </tr>\n",
       "    <tr>\n",
       "      <th>290</th>\n",
       "      <td>us-east-1:738c17d3-a1e2-434c-b982-357b48768331</td>\n",
       "      <td>CM106AUD</td>\n",
       "      <td>2022-03-03 10:11:52.588000-07:00</td>\n",
       "      <td>phq8</td>\n",
       "      <td>6</td>\n",
       "      <td>NaN</td>\n",
       "      <td>NaN</td>\n",
       "    </tr>\n",
       "    <tr>\n",
       "      <th>291</th>\n",
       "      <td>us-east-1:738c17d3-a1e2-434c-b982-357b48768331</td>\n",
       "      <td>CM106AUD</td>\n",
       "      <td>2022-03-20 09:53:10.367000-06:00</td>\n",
       "      <td>phq8</td>\n",
       "      <td>5</td>\n",
       "      <td>NaN</td>\n",
       "      <td>NaN</td>\n",
       "    </tr>\n",
       "    <tr>\n",
       "      <th>292</th>\n",
       "      <td>us-east-1:738c17d3-a1e2-434c-b982-357b48768331</td>\n",
       "      <td>CM106AUD</td>\n",
       "      <td>2022-04-02 14:06:46.940000-06:00</td>\n",
       "      <td>phq8</td>\n",
       "      <td>3</td>\n",
       "      <td>NaN</td>\n",
       "      <td>NaN</td>\n",
       "    </tr>\n",
       "    <tr>\n",
       "      <th>293</th>\n",
       "      <td>us-east-1:738c17d3-a1e2-434c-b982-357b48768331</td>\n",
       "      <td>CM106AUD</td>\n",
       "      <td>2022-04-16 14:41:25.768000-06:00</td>\n",
       "      <td>phq8</td>\n",
       "      <td>2</td>\n",
       "      <td>NaN</td>\n",
       "      <td>NaN</td>\n",
       "    </tr>\n",
       "    <tr>\n",
       "      <th>294</th>\n",
       "      <td>us-east-1:738c17d3-a1e2-434c-b982-357b48768331</td>\n",
       "      <td>CM106AUD</td>\n",
       "      <td>2022-04-30 16:46:49.444000-06:00</td>\n",
       "      <td>phq8</td>\n",
       "      <td>4</td>\n",
       "      <td>NaN</td>\n",
       "      <td>NaN</td>\n",
       "    </tr>\n",
       "    <tr>\n",
       "      <th>295</th>\n",
       "      <td>us-east-1:738c17d3-a1e2-434c-b982-357b48768331</td>\n",
       "      <td>CM106AUD</td>\n",
       "      <td>2022-05-14 17:41:51.146000-06:00</td>\n",
       "      <td>phq8</td>\n",
       "      <td>1</td>\n",
       "      <td>NaN</td>\n",
       "      <td>NaN</td>\n",
       "    </tr>\n",
       "    <tr>\n",
       "      <th>574</th>\n",
       "      <td>us-east-1:ddb6b068-a2df-49a7-9720-c9ad39e2fb55</td>\n",
       "      <td>CF333AUD</td>\n",
       "      <td>2023-05-26 13:44:49.198000-04:00</td>\n",
       "      <td>phq8</td>\n",
       "      <td>5</td>\n",
       "      <td>NaN</td>\n",
       "      <td>NaN</td>\n",
       "    </tr>\n",
       "    <tr>\n",
       "      <th>575</th>\n",
       "      <td>us-east-1:e3423726-2124-4fba-ae5d-449c8abab021</td>\n",
       "      <td>CM250AUD</td>\n",
       "      <td>2023-01-05 09:07:49.858000+01:00</td>\n",
       "      <td>phq8</td>\n",
       "      <td>10</td>\n",
       "      <td>NaN</td>\n",
       "      <td>NaN</td>\n",
       "    </tr>\n",
       "    <tr>\n",
       "      <th>576</th>\n",
       "      <td>us-east-1:e3423726-2124-4fba-ae5d-449c8abab021</td>\n",
       "      <td>CM250AUD</td>\n",
       "      <td>2023-01-13 23:18:30.925000+01:00</td>\n",
       "      <td>phq8</td>\n",
       "      <td>6</td>\n",
       "      <td>NaN</td>\n",
       "      <td>NaN</td>\n",
       "    </tr>\n",
       "  </tbody>\n",
       "</table>\n",
       "</div>"
      ],
      "text/plain": [
       "                                            user_id subject_id  \\\n",
       "289  us-east-1:738c17d3-a1e2-434c-b982-357b48768331   CM106AUD   \n",
       "290  us-east-1:738c17d3-a1e2-434c-b982-357b48768331   CM106AUD   \n",
       "291  us-east-1:738c17d3-a1e2-434c-b982-357b48768331   CM106AUD   \n",
       "292  us-east-1:738c17d3-a1e2-434c-b982-357b48768331   CM106AUD   \n",
       "293  us-east-1:738c17d3-a1e2-434c-b982-357b48768331   CM106AUD   \n",
       "294  us-east-1:738c17d3-a1e2-434c-b982-357b48768331   CM106AUD   \n",
       "295  us-east-1:738c17d3-a1e2-434c-b982-357b48768331   CM106AUD   \n",
       "574  us-east-1:ddb6b068-a2df-49a7-9720-c9ad39e2fb55   CF333AUD   \n",
       "575  us-east-1:e3423726-2124-4fba-ae5d-449c8abab021   CM250AUD   \n",
       "576  us-east-1:e3423726-2124-4fba-ae5d-449c8abab021   CM250AUD   \n",
       "\n",
       "                            timestamp survey_name  phq_total  study_week  \\\n",
       "289  2022-02-18 14:11:55.782000-07:00        phq8          4         NaN   \n",
       "290  2022-03-03 10:11:52.588000-07:00        phq8          6         NaN   \n",
       "291  2022-03-20 09:53:10.367000-06:00        phq8          5         NaN   \n",
       "292  2022-04-02 14:06:46.940000-06:00        phq8          3         NaN   \n",
       "293  2022-04-16 14:41:25.768000-06:00        phq8          2         NaN   \n",
       "294  2022-04-30 16:46:49.444000-06:00        phq8          4         NaN   \n",
       "295  2022-05-14 17:41:51.146000-06:00        phq8          1         NaN   \n",
       "574  2023-05-26 13:44:49.198000-04:00        phq8          5         NaN   \n",
       "575  2023-01-05 09:07:49.858000+01:00        phq8         10         NaN   \n",
       "576  2023-01-13 23:18:30.925000+01:00        phq8          6         NaN   \n",
       "\n",
       "     study_days  \n",
       "289         NaN  \n",
       "290         NaN  \n",
       "291         NaN  \n",
       "292         NaN  \n",
       "293         NaN  \n",
       "294         NaN  \n",
       "295         NaN  \n",
       "574         NaN  \n",
       "575         NaN  \n",
       "576         NaN  "
      ]
     },
     "execution_count": 87,
     "metadata": {},
     "output_type": "execute_result"
    }
   ],
   "source": [
    "df.loc[df['study_days'].isna()]"
   ]
  },
  {
   "cell_type": "code",
   "execution_count": 88,
   "metadata": {},
   "outputs": [],
   "source": [
    "test1 = df.loc[(df['study_week']==0) | (df['study_week']==1),'subject_id'].values"
   ]
  },
  {
   "cell_type": "code",
   "execution_count": 89,
   "metadata": {},
   "outputs": [
    {
     "data": {
      "text/plain": [
       "<Axes: title={'center': 'No. PHQ8 Completed (pre-2/6/23)'}, xlabel='Week', ylabel='Count'>"
      ]
     },
     "execution_count": 89,
     "metadata": {},
     "output_type": "execute_result"
    },
    {
     "data": {
      "image/png": "[encoded data removed]",
      "text/plain": [
       "<Figure size 640x480 with 1 Axes>"
      ]
     },
     "metadata": {},
     "output_type": "display_data"
    }
   ],
   "source": [
    "count_by_week = df['study_week'].value_counts()\n",
    "count_by_week.sort_index(inplace=True)\n",
    "count_by_week.plot(kind='bar', xlabel=\"Week\", ylabel='Count', title='No. PHQ8 Completed (pre-2/6/23)')"
   ]
  },
  {
   "cell_type": "code",
   "execution_count": 90,
   "metadata": {},
   "outputs": [],
   "source": [
    "# count_by_day = df['study_days'].value_counts()\n",
    "# count_by_day.sort_index(inplace=True)\n",
    "# count_by_day.plot(kind='bar')"
   ]
  },
  {
   "cell_type": "code",
   "execution_count": 91,
   "metadata": {},
   "outputs": [
    {
     "data": {
      "text/html": [
       "<div>\n",
       "<style scoped>\n",
       "    .dataframe tbody tr th:only-of-type {\n",
       "        vertical-align: middle;\n",
       "    }\n",
       "\n",
       "    .dataframe tbody tr th {\n",
       "        vertical-align: top;\n",
       "    }\n",
       "\n",
       "    .dataframe thead th {\n",
       "        text-align: right;\n",
       "    }\n",
       "</style>\n",
       "<table border=\"1\" class=\"dataframe\">\n",
       "  <thead>\n",
       "    <tr style=\"text-align: right;\">\n",
       "      <th></th>\n",
       "      <th>week</th>\n",
       "      <th>count</th>\n",
       "    </tr>\n",
       "  </thead>\n",
       "  <tbody>\n",
       "    <tr>\n",
       "      <th>0</th>\n",
       "      <td>0.0</td>\n",
       "      <td>100</td>\n",
       "    </tr>\n",
       "    <tr>\n",
       "      <th>2</th>\n",
       "      <td>2.0</td>\n",
       "      <td>96</td>\n",
       "    </tr>\n",
       "    <tr>\n",
       "      <th>4</th>\n",
       "      <td>4.0</td>\n",
       "      <td>88</td>\n",
       "    </tr>\n",
       "    <tr>\n",
       "      <th>6</th>\n",
       "      <td>6.0</td>\n",
       "      <td>84</td>\n",
       "    </tr>\n",
       "    <tr>\n",
       "      <th>8</th>\n",
       "      <td>8.0</td>\n",
       "      <td>83</td>\n",
       "    </tr>\n",
       "    <tr>\n",
       "      <th>10</th>\n",
       "      <td>10.0</td>\n",
       "      <td>79</td>\n",
       "    </tr>\n",
       "    <tr>\n",
       "      <th>12</th>\n",
       "      <td>12.0</td>\n",
       "      <td>83</td>\n",
       "    </tr>\n",
       "    <tr>\n",
       "      <th>14</th>\n",
       "      <td>14.0</td>\n",
       "      <td>52</td>\n",
       "    </tr>\n",
       "  </tbody>\n",
       "</table>\n",
       "</div>"
      ],
      "text/plain": [
       "    week  count\n",
       "0    0.0    100\n",
       "2    2.0     96\n",
       "4    4.0     88\n",
       "6    6.0     84\n",
       "8    8.0     83\n",
       "10  10.0     79\n",
       "12  12.0     83\n",
       "14  14.0     52"
      ]
     },
     "execution_count": 91,
     "metadata": {},
     "output_type": "execute_result"
    }
   ],
   "source": [
    "observed_count = count_by_week.reset_index().rename(columns={'index':'week','study_week':'count'})\n",
    "for i, row in observed_count.iterrows():\n",
    "    if i<14:\n",
    "        if i%2==0:\n",
    "            observed_count.loc[observed_count.index==i,'count'] = observed_count.loc[observed_count.index==i,'count'].values[0] + observed_count.loc[observed_count.index==i+1,'count'].values[0]\n",
    "        elif i%2!=0:\n",
    "            observed_count.drop(i,inplace=True)\n",
    "    elif i==14:\n",
    "        observed_count.loc[observed_count.index==i,'count'] = observed_count.loc[observed_count.index==i,'count'].values[0] + observed_count.loc[observed_count.index==i+1,'count'].values[0] \n",
    "        + observed_count.loc[observed_count.index==i+2,'count'].values[0] + observed_count.loc[observed_count.index==i+3,'count'].values[0]\n",
    "    else:\n",
    "        observed_count.drop(i,inplace=True)\n",
    "\n",
    "observed_count.loc[observed_count['week']==12,'count'] = 83\n",
    "observed_count"
   ]
  },
  {
   "cell_type": "code",
   "execution_count": 92,
   "metadata": {},
   "outputs": [
    {
     "data": {
      "text/html": [
       "<div>\n",
       "<style scoped>\n",
       "    .dataframe tbody tr th:only-of-type {\n",
       "        vertical-align: middle;\n",
       "    }\n",
       "\n",
       "    .dataframe tbody tr th {\n",
       "        vertical-align: top;\n",
       "    }\n",
       "\n",
       "    .dataframe thead th {\n",
       "        text-align: right;\n",
       "    }\n",
       "</style>\n",
       "<table border=\"1\" class=\"dataframe\">\n",
       "  <thead>\n",
       "    <tr style=\"text-align: right;\">\n",
       "      <th></th>\n",
       "      <th>week</th>\n",
       "      <th>count</th>\n",
       "    </tr>\n",
       "  </thead>\n",
       "  <tbody>\n",
       "    <tr>\n",
       "      <th>0</th>\n",
       "      <td>baseline</td>\n",
       "      <td>100</td>\n",
       "    </tr>\n",
       "    <tr>\n",
       "      <th>2</th>\n",
       "      <td>week_2</td>\n",
       "      <td>96</td>\n",
       "    </tr>\n",
       "    <tr>\n",
       "      <th>4</th>\n",
       "      <td>week_4</td>\n",
       "      <td>88</td>\n",
       "    </tr>\n",
       "    <tr>\n",
       "      <th>6</th>\n",
       "      <td>week_6</td>\n",
       "      <td>84</td>\n",
       "    </tr>\n",
       "    <tr>\n",
       "      <th>8</th>\n",
       "      <td>week_8</td>\n",
       "      <td>83</td>\n",
       "    </tr>\n",
       "    <tr>\n",
       "      <th>10</th>\n",
       "      <td>week_10</td>\n",
       "      <td>79</td>\n",
       "    </tr>\n",
       "    <tr>\n",
       "      <th>12</th>\n",
       "      <td>week_12</td>\n",
       "      <td>83</td>\n",
       "    </tr>\n",
       "    <tr>\n",
       "      <th>14</th>\n",
       "      <td>week_14</td>\n",
       "      <td>52</td>\n",
       "    </tr>\n",
       "  </tbody>\n",
       "</table>\n",
       "</div>"
      ],
      "text/plain": [
       "        week  count\n",
       "0   baseline    100\n",
       "2     week_2     96\n",
       "4     week_4     88\n",
       "6     week_6     84\n",
       "8     week_8     83\n",
       "10   week_10     79\n",
       "12   week_12     83\n",
       "14   week_14     52"
      ]
     },
     "execution_count": 92,
     "metadata": {},
     "output_type": "execute_result"
    }
   ],
   "source": [
    "observed_count['week'] = observed_count['week'].replace({0:'baseline',2:'week_2',4:'week_4',6:'week_6',8:'week_8',10:'week_10',12:'week_12',14:'week_14'})\n",
    "observed_count"
   ]
  },
  {
   "cell_type": "code",
   "execution_count": 93,
   "metadata": {},
   "outputs": [
    {
     "data": {
      "text/html": [
       "<div>\n",
       "<style scoped>\n",
       "    .dataframe tbody tr th:only-of-type {\n",
       "        vertical-align: middle;\n",
       "    }\n",
       "\n",
       "    .dataframe tbody tr th {\n",
       "        vertical-align: top;\n",
       "    }\n",
       "\n",
       "    .dataframe thead th {\n",
       "        text-align: right;\n",
       "    }\n",
       "</style>\n",
       "<table border=\"1\" class=\"dataframe\">\n",
       "  <thead>\n",
       "    <tr style=\"text-align: right;\">\n",
       "      <th></th>\n",
       "      <th>event_name</th>\n",
       "      <th>count</th>\n",
       "    </tr>\n",
       "  </thead>\n",
       "  <tbody>\n",
       "    <tr>\n",
       "      <th>0</th>\n",
       "      <td>baseline</td>\n",
       "      <td>108</td>\n",
       "    </tr>\n",
       "    <tr>\n",
       "      <th>2</th>\n",
       "      <td>week_2</td>\n",
       "      <td>100</td>\n",
       "    </tr>\n",
       "    <tr>\n",
       "      <th>4</th>\n",
       "      <td>week_4</td>\n",
       "      <td>93</td>\n",
       "    </tr>\n",
       "    <tr>\n",
       "      <th>6</th>\n",
       "      <td>week_6</td>\n",
       "      <td>89</td>\n",
       "    </tr>\n",
       "    <tr>\n",
       "      <th>8</th>\n",
       "      <td>week_8</td>\n",
       "      <td>86</td>\n",
       "    </tr>\n",
       "    <tr>\n",
       "      <th>10</th>\n",
       "      <td>week_10</td>\n",
       "      <td>84</td>\n",
       "    </tr>\n",
       "    <tr>\n",
       "      <th>12</th>\n",
       "      <td>week_12</td>\n",
       "      <td>82</td>\n",
       "    </tr>\n",
       "    <tr>\n",
       "      <th>14</th>\n",
       "      <td>week_14</td>\n",
       "      <td>81</td>\n",
       "    </tr>\n",
       "  </tbody>\n",
       "</table>\n",
       "</div>"
      ],
      "text/plain": [
       "   event_name  count\n",
       "0    baseline    108\n",
       "2      week_2    100\n",
       "4      week_4     93\n",
       "6      week_6     89\n",
       "8      week_8     86\n",
       "10    week_10     84\n",
       "12    week_12     82\n",
       "14    week_14     81"
      ]
     },
     "execution_count": 93,
     "metadata": {},
     "output_type": "execute_result"
    }
   ],
   "source": [
    "# get events pre feb6\n",
    "events_pre = pd.read_csv('events_pre_20230206.csv')\n",
    "expected_count = events_pre['event_name'].value_counts().reset_index().rename(columns={'index':'event_name','event_name':'count'})\n",
    "expected_count.drop([1,3,5,7,9,11,13],inplace=True)\n",
    "expected_count"
   ]
  },
  {
   "cell_type": "code",
   "execution_count": 94,
   "metadata": {},
   "outputs": [
    {
     "data": {
      "text/html": [
       "<div>\n",
       "<style scoped>\n",
       "    .dataframe tbody tr th:only-of-type {\n",
       "        vertical-align: middle;\n",
       "    }\n",
       "\n",
       "    .dataframe tbody tr th {\n",
       "        vertical-align: top;\n",
       "    }\n",
       "\n",
       "    .dataframe thead th {\n",
       "        text-align: right;\n",
       "    }\n",
       "</style>\n",
       "<table border=\"1\" class=\"dataframe\">\n",
       "  <thead>\n",
       "    <tr style=\"text-align: right;\">\n",
       "      <th></th>\n",
       "      <th>count_exp</th>\n",
       "      <th>count_obs</th>\n",
       "      <th>proportion</th>\n",
       "      <th>labels</th>\n",
       "    </tr>\n",
       "    <tr>\n",
       "      <th>event_name</th>\n",
       "      <th></th>\n",
       "      <th></th>\n",
       "      <th></th>\n",
       "      <th></th>\n",
       "    </tr>\n",
       "  </thead>\n",
       "  <tbody>\n",
       "    <tr>\n",
       "      <th>baseline</th>\n",
       "      <td>108</td>\n",
       "      <td>100</td>\n",
       "      <td>0.925926</td>\n",
       "      <td>100/108</td>\n",
       "    </tr>\n",
       "    <tr>\n",
       "      <th>week_2</th>\n",
       "      <td>100</td>\n",
       "      <td>96</td>\n",
       "      <td>0.960000</td>\n",
       "      <td>96/100</td>\n",
       "    </tr>\n",
       "    <tr>\n",
       "      <th>week_4</th>\n",
       "      <td>93</td>\n",
       "      <td>88</td>\n",
       "      <td>0.946237</td>\n",
       "      <td>88/93</td>\n",
       "    </tr>\n",
       "    <tr>\n",
       "      <th>week_6</th>\n",
       "      <td>89</td>\n",
       "      <td>84</td>\n",
       "      <td>0.943820</td>\n",
       "      <td>84/89</td>\n",
       "    </tr>\n",
       "    <tr>\n",
       "      <th>week_8</th>\n",
       "      <td>86</td>\n",
       "      <td>83</td>\n",
       "      <td>0.965116</td>\n",
       "      <td>83/86</td>\n",
       "    </tr>\n",
       "    <tr>\n",
       "      <th>week_10</th>\n",
       "      <td>84</td>\n",
       "      <td>79</td>\n",
       "      <td>0.940476</td>\n",
       "      <td>79/84</td>\n",
       "    </tr>\n",
       "    <tr>\n",
       "      <th>week_12</th>\n",
       "      <td>82</td>\n",
       "      <td>83</td>\n",
       "      <td>1.012195</td>\n",
       "      <td>83/82</td>\n",
       "    </tr>\n",
       "    <tr>\n",
       "      <th>week_14</th>\n",
       "      <td>81</td>\n",
       "      <td>52</td>\n",
       "      <td>0.641975</td>\n",
       "      <td>52/81</td>\n",
       "    </tr>\n",
       "  </tbody>\n",
       "</table>\n",
       "</div>"
      ],
      "text/plain": [
       "            count_exp  count_obs  proportion   labels\n",
       "event_name                                           \n",
       "baseline          108        100    0.925926  100/108\n",
       "week_2            100         96    0.960000   96/100\n",
       "week_4             93         88    0.946237    88/93\n",
       "week_6             89         84    0.943820    84/89\n",
       "week_8             86         83    0.965116    83/86\n",
       "week_10            84         79    0.940476    79/84\n",
       "week_12            82         83    1.012195    83/82\n",
       "week_14            81         52    0.641975    52/81"
      ]
     },
     "execution_count": 94,
     "metadata": {},
     "output_type": "execute_result"
    }
   ],
   "source": [
    "summary_counts = expected_count.merge(observed_count, left_on='event_name', right_on='week', suffixes=['_exp','_obs']).drop(columns='week')\n",
    "summary_counts['proportion'] = summary_counts['count_obs'] / summary_counts['count_exp']\n",
    "summary_counts['labels'] = summary_counts['count_obs'].map(str) + '/' + summary_counts['count_exp'].map(str)\n",
    "summary_counts.set_index('event_name',inplace=True)\n",
    "summary_counts"
   ]
  },
  {
   "cell_type": "code",
   "execution_count": 95,
   "metadata": {},
   "outputs": [
    {
     "data": {
      "text/plain": [
       "723"
      ]
     },
     "execution_count": 95,
     "metadata": {},
     "output_type": "execute_result"
    }
   ],
   "source": [
    "sum(summary_counts['count_exp'])"
   ]
  },
  {
   "cell_type": "code",
   "execution_count": 96,
   "metadata": {},
   "outputs": [
    {
     "data": {
      "text/plain": [
       "665"
      ]
     },
     "execution_count": 96,
     "metadata": {},
     "output_type": "execute_result"
    }
   ],
   "source": [
    "sum(summary_counts['count_obs'])"
   ]
  },
  {
   "cell_type": "code",
   "execution_count": 97,
   "metadata": {},
   "outputs": [
    {
     "data": {
      "image/png": "[encoded data removed]",
      "text/plain": [
       "<Figure size 640x480 with 1 Axes>"
      ]
     },
     "metadata": {},
     "output_type": "display_data"
    }
   ],
   "source": [
    "# plot phq8 completion rates\n",
    "fig2, ax2 = plt.subplots()\n",
    "\n",
    "ax2.plot(summary_counts.loc[:,['proportion']], linestyle='-', color='mediumpurple', marker='.')\n",
    "\n",
    "for i, txt in enumerate(summary_counts['labels']):\n",
    "    ax2.annotate(txt, (summary_counts.loc[:,['labels',]].index.values[i], summary_counts.loc[:,['proportion',]].values[i]))\n",
    "\n",
    "plt.ylim([0,1.1])\n",
    "#plt.legend(loc='lower left')\n",
    "plt.xticks(rotation = 45)\n",
    "plt.title('PHQ8 Completion Rates (pre 2/6/23)')\n",
    "plt.ylabel('Proportion')\n",
    "plt.show()"
   ]
  },
  {
   "cell_type": "code",
   "execution_count": 98,
   "metadata": {},
   "outputs": [],
   "source": [
    "test2 = events_pre['record_id'].unique()"
   ]
  },
  {
   "cell_type": "code",
   "execution_count": 99,
   "metadata": {},
   "outputs": [
    {
     "data": {
      "text/plain": [
       "100"
      ]
     },
     "execution_count": 99,
     "metadata": {},
     "output_type": "execute_result"
    }
   ],
   "source": [
    "len(test1)"
   ]
  },
  {
   "cell_type": "code",
   "execution_count": 100,
   "metadata": {},
   "outputs": [
    {
     "data": {
      "text/plain": [
       "108"
      ]
     },
     "execution_count": 100,
     "metadata": {},
     "output_type": "execute_result"
    }
   ],
   "source": [
    "len(test2)"
   ]
  },
  {
   "cell_type": "code",
   "execution_count": 101,
   "metadata": {},
   "outputs": [
    {
     "name": "stdout",
     "output_type": "stream",
     "text": [
      "Missing values in Redcap list: set()\n",
      "Additional values in Redcap list: {'CF276AUD', 'CF026AUD', 'CF231AUD', 'PM142AUD', 'MM145AUD', 'MM290AUD', 'MM106AUD', 'MM291AUD', 'CF021AUD', 'CM085AUD', 'CM083AUD', 'CF241AUD'}\n",
      "Missing values in HR's list: {'CF276AUD', 'CF026AUD', 'CF231AUD', 'PM142AUD', 'MM145AUD', 'MM290AUD', 'MM106AUD', 'MM291AUD', 'CF021AUD', 'CM085AUD', 'CM083AUD', 'CF241AUD'}\n",
      "Additional values in HR's list: set()\n"
     ]
    }
   ],
   "source": [
    "# prints the missing and additional elements in list2\n",
    "print(\"Missing values in Redcap list:\", (set(test1).difference(test2)))\n",
    "print(\"Additional values in Redcap list:\", (set(test2).difference(test1)))\n",
    " \n",
    "# prints the missing and additional elements in list1\n",
    "print(\"Missing values in HR's list:\", (set(test2).difference(test1)))\n",
    "print(\"Additional values in HR's list:\", (set(test1).difference(test2)))"
   ]
  },
  {
   "cell_type": "code",
   "execution_count": 102,
   "metadata": {},
   "outputs": [
    {
     "data": {
      "text/html": [
       "<div>\n",
       "<style scoped>\n",
       "    .dataframe tbody tr th:only-of-type {\n",
       "        vertical-align: middle;\n",
       "    }\n",
       "\n",
       "    .dataframe tbody tr th {\n",
       "        vertical-align: top;\n",
       "    }\n",
       "\n",
       "    .dataframe thead th {\n",
       "        text-align: right;\n",
       "    }\n",
       "</style>\n",
       "<table border=\"1\" class=\"dataframe\">\n",
       "  <thead>\n",
       "    <tr style=\"text-align: right;\">\n",
       "      <th></th>\n",
       "      <th>event_name</th>\n",
       "      <th>count</th>\n",
       "    </tr>\n",
       "  </thead>\n",
       "  <tbody>\n",
       "    <tr>\n",
       "      <th>0</th>\n",
       "      <td>baseline</td>\n",
       "      <td>108</td>\n",
       "    </tr>\n",
       "    <tr>\n",
       "      <th>2</th>\n",
       "      <td>week_2</td>\n",
       "      <td>101</td>\n",
       "    </tr>\n",
       "    <tr>\n",
       "      <th>4</th>\n",
       "      <td>week_4</td>\n",
       "      <td>95</td>\n",
       "    </tr>\n",
       "    <tr>\n",
       "      <th>6</th>\n",
       "      <td>week_6</td>\n",
       "      <td>92</td>\n",
       "    </tr>\n",
       "    <tr>\n",
       "      <th>8</th>\n",
       "      <td>week_8</td>\n",
       "      <td>90</td>\n",
       "    </tr>\n",
       "    <tr>\n",
       "      <th>10</th>\n",
       "      <td>week_10</td>\n",
       "      <td>89</td>\n",
       "    </tr>\n",
       "    <tr>\n",
       "      <th>12</th>\n",
       "      <td>week_12</td>\n",
       "      <td>87</td>\n",
       "    </tr>\n",
       "    <tr>\n",
       "      <th>14</th>\n",
       "      <td>week_14</td>\n",
       "      <td>86</td>\n",
       "    </tr>\n",
       "  </tbody>\n",
       "</table>\n",
       "</div>"
      ],
      "text/plain": [
       "   event_name  count\n",
       "0    baseline    108\n",
       "2      week_2    101\n",
       "4      week_4     95\n",
       "6      week_6     92\n",
       "8      week_8     90\n",
       "10    week_10     89\n",
       "12    week_12     87\n",
       "14    week_14     86"
      ]
     },
     "execution_count": 102,
     "metadata": {},
     "output_type": "execute_result"
    }
   ],
   "source": [
    "# get all events pre feb6\n",
    "all_events_pre = pd.read_csv('all_events_pre_20230206.csv')\n",
    "all_expected_count = all_events_pre['event_name'].value_counts().reset_index().rename(columns={'index':'event_name','event_name':'count'})\n",
    "all_expected_count.drop([1,3,5,7,9,11,13],inplace=True)\n",
    "all_expected_count"
   ]
  },
  {
   "cell_type": "code",
   "execution_count": 103,
   "metadata": {},
   "outputs": [
    {
     "data": {
      "text/html": [
       "<div>\n",
       "<style scoped>\n",
       "    .dataframe tbody tr th:only-of-type {\n",
       "        vertical-align: middle;\n",
       "    }\n",
       "\n",
       "    .dataframe tbody tr th {\n",
       "        vertical-align: top;\n",
       "    }\n",
       "\n",
       "    .dataframe thead th {\n",
       "        text-align: right;\n",
       "    }\n",
       "</style>\n",
       "<table border=\"1\" class=\"dataframe\">\n",
       "  <thead>\n",
       "    <tr style=\"text-align: right;\">\n",
       "      <th></th>\n",
       "      <th>count_exp</th>\n",
       "      <th>count_obs</th>\n",
       "      <th>proportion</th>\n",
       "      <th>labels</th>\n",
       "    </tr>\n",
       "    <tr>\n",
       "      <th>event_name</th>\n",
       "      <th></th>\n",
       "      <th></th>\n",
       "      <th></th>\n",
       "      <th></th>\n",
       "    </tr>\n",
       "  </thead>\n",
       "  <tbody>\n",
       "    <tr>\n",
       "      <th>baseline</th>\n",
       "      <td>108</td>\n",
       "      <td>100</td>\n",
       "      <td>0.925926</td>\n",
       "      <td>100/108</td>\n",
       "    </tr>\n",
       "    <tr>\n",
       "      <th>week_2</th>\n",
       "      <td>101</td>\n",
       "      <td>96</td>\n",
       "      <td>0.950495</td>\n",
       "      <td>96/101</td>\n",
       "    </tr>\n",
       "    <tr>\n",
       "      <th>week_4</th>\n",
       "      <td>95</td>\n",
       "      <td>88</td>\n",
       "      <td>0.926316</td>\n",
       "      <td>88/95</td>\n",
       "    </tr>\n",
       "    <tr>\n",
       "      <th>week_6</th>\n",
       "      <td>92</td>\n",
       "      <td>84</td>\n",
       "      <td>0.913043</td>\n",
       "      <td>84/92</td>\n",
       "    </tr>\n",
       "    <tr>\n",
       "      <th>week_8</th>\n",
       "      <td>90</td>\n",
       "      <td>83</td>\n",
       "      <td>0.922222</td>\n",
       "      <td>83/90</td>\n",
       "    </tr>\n",
       "    <tr>\n",
       "      <th>week_10</th>\n",
       "      <td>89</td>\n",
       "      <td>79</td>\n",
       "      <td>0.887640</td>\n",
       "      <td>79/89</td>\n",
       "    </tr>\n",
       "    <tr>\n",
       "      <th>week_12</th>\n",
       "      <td>87</td>\n",
       "      <td>83</td>\n",
       "      <td>0.954023</td>\n",
       "      <td>83/87</td>\n",
       "    </tr>\n",
       "    <tr>\n",
       "      <th>week_14</th>\n",
       "      <td>86</td>\n",
       "      <td>52</td>\n",
       "      <td>0.604651</td>\n",
       "      <td>52/86</td>\n",
       "    </tr>\n",
       "  </tbody>\n",
       "</table>\n",
       "</div>"
      ],
      "text/plain": [
       "            count_exp  count_obs  proportion   labels\n",
       "event_name                                           \n",
       "baseline          108        100    0.925926  100/108\n",
       "week_2            101         96    0.950495   96/101\n",
       "week_4             95         88    0.926316    88/95\n",
       "week_6             92         84    0.913043    84/92\n",
       "week_8             90         83    0.922222    83/90\n",
       "week_10            89         79    0.887640    79/89\n",
       "week_12            87         83    0.954023    83/87\n",
       "week_14            86         52    0.604651    52/86"
      ]
     },
     "execution_count": 103,
     "metadata": {},
     "output_type": "execute_result"
    }
   ],
   "source": [
    "all_summary_counts = all_expected_count.merge(observed_count, left_on='event_name', right_on='week', suffixes=['_exp','_obs']).drop(columns='week')\n",
    "all_summary_counts['proportion'] = all_summary_counts['count_obs'] / all_summary_counts['count_exp']\n",
    "all_summary_counts['labels'] = all_summary_counts['count_obs'].map(str) + '/' + all_summary_counts['count_exp'].map(str)\n",
    "all_summary_counts.set_index('event_name',inplace=True)\n",
    "all_summary_counts"
   ]
  },
  {
   "cell_type": "code",
   "execution_count": 104,
   "metadata": {},
   "outputs": [
    {
     "data": {
      "text/plain": [
       "748"
      ]
     },
     "execution_count": 104,
     "metadata": {},
     "output_type": "execute_result"
    }
   ],
   "source": [
    "sum(all_summary_counts['count_exp'])"
   ]
  },
  {
   "cell_type": "code",
   "execution_count": 105,
   "metadata": {},
   "outputs": [
    {
     "data": {
      "text/plain": [
       "665"
      ]
     },
     "execution_count": 105,
     "metadata": {},
     "output_type": "execute_result"
    }
   ],
   "source": [
    "sum(all_summary_counts['count_obs'])"
   ]
  },
  {
   "cell_type": "code",
   "execution_count": 106,
   "metadata": {},
   "outputs": [
    {
     "data": {
      "image/png": "[encoded data removed]",
      "text/plain": [
       "<Figure size 640x480 with 1 Axes>"
      ]
     },
     "metadata": {},
     "output_type": "display_data"
    }
   ],
   "source": [
    "# plot phq8 completion rates\n",
    "fig2, ax2 = plt.subplots()\n",
    "\n",
    "ax2.plot(all_summary_counts.loc[:,['proportion']], linestyle='-', color='mediumpurple', marker='.')\n",
    "\n",
    "for i, txt in enumerate(all_summary_counts['labels']):\n",
    "    ax2.annotate(txt, (all_summary_counts.loc[:,['labels',]].index.values[i], all_summary_counts.loc[:,['proportion',]].values[i]))\n",
    "\n",
    "plt.ylim([0,1.1])\n",
    "#plt.legend(loc='lower left')\n",
    "plt.xticks(rotation = 45)\n",
    "plt.title('PHQ8 Completion Rates (pre 2/6/23)')\n",
    "plt.ylabel('Proportion')\n",
    "plt.show()"
   ]
  }
 ],
 "metadata": {
  "kernelspec": {
   "display_name": "base",
   "language": "python",
   "name": "python3"
  },
  "language_info": {
   "codemirror_mode": {
    "name": "ipython",
    "version": 3
   },
   "file_extension": ".py",
   "mimetype": "text/x-python",
   "name": "python",
   "nbconvert_exporter": "python",
   "pygments_lexer": "ipython3",
   "version": "3.10.9"
  },
  "orig_nbformat": 4
 },
 "nbformat": 4,
 "nbformat_minor": 2
}
